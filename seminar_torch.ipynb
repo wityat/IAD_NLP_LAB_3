{
 "cells": [
  {
   "cell_type": "markdown",
   "metadata": {
    "id": "9t75zdooZe8j"
   },
   "source": [
    "# Large scale text analysis with deep learning (3 points)\n",
    "\n",
    "Today we're gonna apply the newly learned tools for the task of predicting job salary.\n",
    "\n",
    "<img src=\"https://storage.googleapis.com/kaggle-competitions/kaggle/3342/media/salary%20prediction%20engine%20v2.png\" width=400px>\n",
    "\n",
    "_Special thanks to [Oleg Vasilev](https://github.com/Omrigan/) for the core assignment idea._"
   ]
  },
  {
   "cell_type": "markdown",
   "metadata": {},
   "source": [
    "Хай, май нейм из Виктор Кенк энд this код ис май лаборатори ворк :)"
   ]
  },
  {
   "cell_type": "code",
   "execution_count": 1,
   "metadata": {
    "id": "YWS0E8OHZe8s"
   },
   "outputs": [],
   "source": [
    "import warnings\n",
    "warnings.filterwarnings(\"ignore\")\n",
    "\n",
    "import numpy as np\n",
    "import pandas as pd\n",
    "import matplotlib.pyplot as plt\n",
    "%matplotlib inline"
   ]
  },
  {
   "cell_type": "markdown",
   "metadata": {
    "id": "JbjrfFspZe8s"
   },
   "source": [
    "### About the challenge\n",
    "For starters, let's download and unpack the data from [here]. \n",
    "\n",
    "You can also get it from [yadisk url](https://yadi.sk/d/vVEOWPFY3NruT7) the competition [page](https://www.kaggle.com/c/job-salary-prediction/data) (pick `Train_rev1.*`)."
   ]
  },
  {
   "cell_type": "code",
   "execution_count": 2,
   "metadata": {
    "colab": {
     "base_uri": "https://localhost:8080/"
    },
    "executionInfo": {
     "elapsed": 15652,
     "status": "ok",
     "timestamp": 1624451929807,
     "user": {
      "displayName": "Aleksey Shimko",
      "photoUrl": "",
      "userId": "06639583344500545085"
     },
     "user_tz": -180
    },
    "id": "qsBw4DmiZe8t",
    "outputId": "e441fd46-3f1e-4833-e88e-b8df2e4f068d"
   },
   "outputs": [
    {
     "name": "stderr",
     "output_type": "stream",
     "text": [
      "\"wget\" ­Ґ пў«пҐвбп ў­гваҐ­­Ґ© Ё«Ё ў­Ґи­Ґ©\n",
      "Є®¬ ­¤®©, ЁбЇ®«­пҐ¬®© Їа®Ја ¬¬®© Ё«Ё Ї ЄҐв­л¬ д ©«®¬.\n",
      "\"unzip\" ­Ґ пў«пҐвбп ў­гваҐ­­Ґ© Ё«Ё ў­Ґи­Ґ©\n",
      "Є®¬ ­¤®©, ЁбЇ®«­пҐ¬®© Їа®Ја ¬¬®© Ё«Ё Ї ЄҐв­л¬ д ©«®¬.\n"
     ]
    },
    {
     "data": {
      "text/plain": [
       "(244768, 12)"
      ]
     },
     "execution_count": 2,
     "metadata": {},
     "output_type": "execute_result"
    }
   ],
   "source": [
    "!wget https://ysda-seminars.s3.eu-central-1.amazonaws.com/Train_rev1.zip\n",
    "!unzip Train_rev1.zip\n",
    "data = pd.read_csv(\"Train_rev1.csv\", index_col=None)\n",
    "data.shape"
   ]
  },
  {
   "cell_type": "code",
   "execution_count": 3,
   "metadata": {
    "colab": {
     "base_uri": "https://localhost:8080/",
     "height": 495
    },
    "executionInfo": {
     "elapsed": 8,
     "status": "ok",
     "timestamp": 1624451929807,
     "user": {
      "displayName": "Aleksey Shimko",
      "photoUrl": "",
      "userId": "06639583344500545085"
     },
     "user_tz": -180
    },
    "id": "NaYFLUUsZe8u",
    "outputId": "8915d572-44b1-41d7-c658-fae0fc270530"
   },
   "outputs": [
    {
     "data": {
      "text/html": [
       "<div>\n",
       "<style scoped>\n",
       "    .dataframe tbody tr th:only-of-type {\n",
       "        vertical-align: middle;\n",
       "    }\n",
       "\n",
       "    .dataframe tbody tr th {\n",
       "        vertical-align: top;\n",
       "    }\n",
       "\n",
       "    .dataframe thead th {\n",
       "        text-align: right;\n",
       "    }\n",
       "</style>\n",
       "<table border=\"1\" class=\"dataframe\">\n",
       "  <thead>\n",
       "    <tr style=\"text-align: right;\">\n",
       "      <th></th>\n",
       "      <th>Id</th>\n",
       "      <th>Title</th>\n",
       "      <th>FullDescription</th>\n",
       "      <th>LocationRaw</th>\n",
       "      <th>LocationNormalized</th>\n",
       "      <th>ContractType</th>\n",
       "      <th>ContractTime</th>\n",
       "      <th>Company</th>\n",
       "      <th>Category</th>\n",
       "      <th>SalaryRaw</th>\n",
       "      <th>SalaryNormalized</th>\n",
       "      <th>SourceName</th>\n",
       "    </tr>\n",
       "  </thead>\n",
       "  <tbody>\n",
       "    <tr>\n",
       "      <th>0</th>\n",
       "      <td>12612628</td>\n",
       "      <td>Engineering Systems Analyst</td>\n",
       "      <td>Engineering Systems Analyst Dorking Surrey Sal...</td>\n",
       "      <td>Dorking, Surrey, Surrey</td>\n",
       "      <td>Dorking</td>\n",
       "      <td>NaN</td>\n",
       "      <td>permanent</td>\n",
       "      <td>Gregory Martin International</td>\n",
       "      <td>Engineering Jobs</td>\n",
       "      <td>20000 - 30000/annum 20-30K</td>\n",
       "      <td>25000</td>\n",
       "      <td>cv-library.co.uk</td>\n",
       "    </tr>\n",
       "    <tr>\n",
       "      <th>1</th>\n",
       "      <td>12612830</td>\n",
       "      <td>Stress Engineer Glasgow</td>\n",
       "      <td>Stress Engineer Glasgow Salary **** to **** We...</td>\n",
       "      <td>Glasgow, Scotland, Scotland</td>\n",
       "      <td>Glasgow</td>\n",
       "      <td>NaN</td>\n",
       "      <td>permanent</td>\n",
       "      <td>Gregory Martin International</td>\n",
       "      <td>Engineering Jobs</td>\n",
       "      <td>25000 - 35000/annum 25-35K</td>\n",
       "      <td>30000</td>\n",
       "      <td>cv-library.co.uk</td>\n",
       "    </tr>\n",
       "    <tr>\n",
       "      <th>2</th>\n",
       "      <td>12612844</td>\n",
       "      <td>Modelling and simulation analyst</td>\n",
       "      <td>Mathematical Modeller / Simulation Analyst / O...</td>\n",
       "      <td>Hampshire, South East, South East</td>\n",
       "      <td>Hampshire</td>\n",
       "      <td>NaN</td>\n",
       "      <td>permanent</td>\n",
       "      <td>Gregory Martin International</td>\n",
       "      <td>Engineering Jobs</td>\n",
       "      <td>20000 - 40000/annum 20-40K</td>\n",
       "      <td>30000</td>\n",
       "      <td>cv-library.co.uk</td>\n",
       "    </tr>\n",
       "    <tr>\n",
       "      <th>3</th>\n",
       "      <td>12613049</td>\n",
       "      <td>Engineering Systems Analyst / Mathematical Mod...</td>\n",
       "      <td>Engineering Systems Analyst / Mathematical Mod...</td>\n",
       "      <td>Surrey, South East, South East</td>\n",
       "      <td>Surrey</td>\n",
       "      <td>NaN</td>\n",
       "      <td>permanent</td>\n",
       "      <td>Gregory Martin International</td>\n",
       "      <td>Engineering Jobs</td>\n",
       "      <td>25000 - 30000/annum 25K-30K negotiable</td>\n",
       "      <td>27500</td>\n",
       "      <td>cv-library.co.uk</td>\n",
       "    </tr>\n",
       "    <tr>\n",
       "      <th>4</th>\n",
       "      <td>12613647</td>\n",
       "      <td>Pioneer, Miser Engineering Systems Analyst</td>\n",
       "      <td>Pioneer, Miser  Engineering Systems Analyst Do...</td>\n",
       "      <td>Surrey, South East, South East</td>\n",
       "      <td>Surrey</td>\n",
       "      <td>NaN</td>\n",
       "      <td>permanent</td>\n",
       "      <td>Gregory Martin International</td>\n",
       "      <td>Engineering Jobs</td>\n",
       "      <td>20000 - 30000/annum 20-30K</td>\n",
       "      <td>25000</td>\n",
       "      <td>cv-library.co.uk</td>\n",
       "    </tr>\n",
       "  </tbody>\n",
       "</table>\n",
       "</div>"
      ],
      "text/plain": [
       "         Id                                              Title  \\\n",
       "0  12612628                        Engineering Systems Analyst   \n",
       "1  12612830                            Stress Engineer Glasgow   \n",
       "2  12612844                   Modelling and simulation analyst   \n",
       "3  12613049  Engineering Systems Analyst / Mathematical Mod...   \n",
       "4  12613647         Pioneer, Miser Engineering Systems Analyst   \n",
       "\n",
       "                                     FullDescription  \\\n",
       "0  Engineering Systems Analyst Dorking Surrey Sal...   \n",
       "1  Stress Engineer Glasgow Salary **** to **** We...   \n",
       "2  Mathematical Modeller / Simulation Analyst / O...   \n",
       "3  Engineering Systems Analyst / Mathematical Mod...   \n",
       "4  Pioneer, Miser  Engineering Systems Analyst Do...   \n",
       "\n",
       "                         LocationRaw LocationNormalized ContractType  \\\n",
       "0            Dorking, Surrey, Surrey            Dorking          NaN   \n",
       "1        Glasgow, Scotland, Scotland            Glasgow          NaN   \n",
       "2  Hampshire, South East, South East          Hampshire          NaN   \n",
       "3     Surrey, South East, South East             Surrey          NaN   \n",
       "4     Surrey, South East, South East             Surrey          NaN   \n",
       "\n",
       "  ContractTime                       Company          Category  \\\n",
       "0    permanent  Gregory Martin International  Engineering Jobs   \n",
       "1    permanent  Gregory Martin International  Engineering Jobs   \n",
       "2    permanent  Gregory Martin International  Engineering Jobs   \n",
       "3    permanent  Gregory Martin International  Engineering Jobs   \n",
       "4    permanent  Gregory Martin International  Engineering Jobs   \n",
       "\n",
       "                                SalaryRaw  SalaryNormalized        SourceName  \n",
       "0              20000 - 30000/annum 20-30K             25000  cv-library.co.uk  \n",
       "1              25000 - 35000/annum 25-35K             30000  cv-library.co.uk  \n",
       "2              20000 - 40000/annum 20-40K             30000  cv-library.co.uk  \n",
       "3  25000 - 30000/annum 25K-30K negotiable             27500  cv-library.co.uk  \n",
       "4              20000 - 30000/annum 20-30K             25000  cv-library.co.uk  "
      ]
     },
     "execution_count": 3,
     "metadata": {},
     "output_type": "execute_result"
    }
   ],
   "source": [
    "data.head()"
   ]
  },
  {
   "cell_type": "markdown",
   "metadata": {
    "id": "GzN578PlZe8v"
   },
   "source": [
    "One problem with salary prediction is that it's oddly distributed: there are many people who are paid standard salaries and a few that get tons o money. The distribution is fat-tailed on the right side, which is inconvenient for MSE minimization.\n",
    "\n",
    "There are several techniques to combat this: using a different loss function, predicting log-target instead of raw target or even replacing targets with their percentiles among all salaries in the training set. We gonna use logarithm for now.\n",
    "\n",
    "_You can read more [in the official description](https://www.kaggle.com/c/job-salary-prediction#description)._"
   ]
  },
  {
   "cell_type": "code",
   "execution_count": 4,
   "metadata": {
    "colab": {
     "base_uri": "https://localhost:8080/",
     "height": 265
    },
    "executionInfo": {
     "elapsed": 541,
     "status": "ok",
     "timestamp": 1624451930343,
     "user": {
      "displayName": "Aleksey Shimko",
      "photoUrl": "",
      "userId": "06639583344500545085"
     },
     "user_tz": -180
    },
    "id": "7m4_nPD5Ze8v",
    "outputId": "500dc396-ee5e-4ca1-9ccd-ee92c7cb3ae6"
   },
   "outputs": [
    {
     "data": {
      "image/png": "[encoded data removed]",
      "text/plain": [
       "<Figure size 576x288 with 2 Axes>"
      ]
     },
     "metadata": {
      "needs_background": "light"
     },
     "output_type": "display_data"
    }
   ],
   "source": [
    "data['Log1pSalary'] = np.log1p(data['SalaryNormalized']).astype('float32')\n",
    "\n",
    "plt.figure(figsize=[8, 4])\n",
    "plt.subplot(1, 2, 1)\n",
    "plt.hist(data[\"SalaryNormalized\"], bins=20);\n",
    "\n",
    "plt.subplot(1, 2, 2)\n",
    "plt.hist(data['Log1pSalary'], bins=20);"
   ]
  },
  {
   "cell_type": "markdown",
   "metadata": {
    "id": "FQ4sxIXDZe8w"
   },
   "source": [
    "Our task is to predict one number, __Log1pSalary__.\n",
    "\n",
    "To do so, our model can access a number of features:\n",
    "* Free text: __`Title`__ and  __`FullDescription`__\n",
    "* Categorical: __`Category`__, __`Company`__, __`LocationNormalized`__, __`ContractType`__, and __`ContractTime`__."
   ]
  },
  {
   "cell_type": "code",
   "execution_count": 5,
   "metadata": {
    "colab": {
     "base_uri": "https://localhost:8080/",
     "height": 348
    },
    "executionInfo": {
     "elapsed": 17,
     "status": "ok",
     "timestamp": 1624451930343,
     "user": {
      "displayName": "Aleksey Shimko",
      "photoUrl": "",
      "userId": "06639583344500545085"
     },
     "user_tz": -180
    },
    "id": "6dYdc8PIZe8w",
    "outputId": "1660641f-adb1-4215-ba25-cc0c0b8c1023"
   },
   "outputs": [
    {
     "data": {
      "text/html": [
       "<div>\n",
       "<style scoped>\n",
       "    .dataframe tbody tr th:only-of-type {\n",
       "        vertical-align: middle;\n",
       "    }\n",
       "\n",
       "    .dataframe tbody tr th {\n",
       "        vertical-align: top;\n",
       "    }\n",
       "\n",
       "    .dataframe thead th {\n",
       "        text-align: right;\n",
       "    }\n",
       "</style>\n",
       "<table border=\"1\" class=\"dataframe\">\n",
       "  <thead>\n",
       "    <tr style=\"text-align: right;\">\n",
       "      <th></th>\n",
       "      <th>Id</th>\n",
       "      <th>Title</th>\n",
       "      <th>FullDescription</th>\n",
       "      <th>LocationRaw</th>\n",
       "      <th>LocationNormalized</th>\n",
       "      <th>ContractType</th>\n",
       "      <th>ContractTime</th>\n",
       "      <th>Company</th>\n",
       "      <th>Category</th>\n",
       "      <th>SalaryRaw</th>\n",
       "      <th>SalaryNormalized</th>\n",
       "      <th>SourceName</th>\n",
       "      <th>Log1pSalary</th>\n",
       "    </tr>\n",
       "  </thead>\n",
       "  <tbody>\n",
       "    <tr>\n",
       "      <th>80823</th>\n",
       "      <td>69023530</td>\n",
       "      <td>ICT Supplier and Contracts Officer</td>\n",
       "      <td>The Supplier &amp; Contracts Officer will be respo...</td>\n",
       "      <td>Warrington, Greater Manchester</td>\n",
       "      <td>UK</td>\n",
       "      <td>NaN</td>\n",
       "      <td>contract</td>\n",
       "      <td>Coyle Personnel</td>\n",
       "      <td>Other/General Jobs</td>\n",
       "      <td>18/hour</td>\n",
       "      <td>34560</td>\n",
       "      <td>cv-library.co.uk</td>\n",
       "      <td>10.450481</td>\n",
       "    </tr>\n",
       "    <tr>\n",
       "      <th>160450</th>\n",
       "      <td>71185863</td>\n",
       "      <td>Engineering Team Lead</td>\n",
       "      <td>Peek Traffic Ltd Engineering Team Lead Basings...</td>\n",
       "      <td>Basingstoke Hampshire South East</td>\n",
       "      <td>Basingstoke</td>\n",
       "      <td>NaN</td>\n",
       "      <td>permanent</td>\n",
       "      <td>PEEK TRAFFIC LTD</td>\n",
       "      <td>Other/General Jobs</td>\n",
       "      <td>Up to 55,000 per annum</td>\n",
       "      <td>55000</td>\n",
       "      <td>totaljobs.com</td>\n",
       "      <td>10.915107</td>\n",
       "    </tr>\n",
       "    <tr>\n",
       "      <th>60672</th>\n",
       "      <td>68694094</td>\n",
       "      <td>Information Security Officer / IT Security Ana...</td>\n",
       "      <td>The Company Robert Half Technology are working...</td>\n",
       "      <td>City London South East</td>\n",
       "      <td>London</td>\n",
       "      <td>NaN</td>\n",
       "      <td>permanent</td>\n",
       "      <td>Robert Half Technology</td>\n",
       "      <td>Accounting &amp; Finance Jobs</td>\n",
       "      <td>65000 - 75000 per annum + bonus &amp; benefits</td>\n",
       "      <td>70000</td>\n",
       "      <td>totaljobs.com</td>\n",
       "      <td>11.156265</td>\n",
       "    </tr>\n",
       "  </tbody>\n",
       "</table>\n",
       "</div>"
      ],
      "text/plain": [
       "              Id                                              Title  \\\n",
       "80823   69023530                 ICT Supplier and Contracts Officer   \n",
       "160450  71185863                              Engineering Team Lead   \n",
       "60672   68694094  Information Security Officer / IT Security Ana...   \n",
       "\n",
       "                                          FullDescription  \\\n",
       "80823   The Supplier & Contracts Officer will be respo...   \n",
       "160450  Peek Traffic Ltd Engineering Team Lead Basings...   \n",
       "60672   The Company Robert Half Technology are working...   \n",
       "\n",
       "                             LocationRaw LocationNormalized ContractType  \\\n",
       "80823     Warrington, Greater Manchester                 UK          NaN   \n",
       "160450  Basingstoke Hampshire South East        Basingstoke          NaN   \n",
       "60672             City London South East             London          NaN   \n",
       "\n",
       "       ContractTime                 Company                   Category  \\\n",
       "80823      contract         Coyle Personnel         Other/General Jobs   \n",
       "160450    permanent        PEEK TRAFFIC LTD         Other/General Jobs   \n",
       "60672     permanent  Robert Half Technology  Accounting & Finance Jobs   \n",
       "\n",
       "                                         SalaryRaw  SalaryNormalized  \\\n",
       "80823                                      18/hour             34560   \n",
       "160450                      Up to 55,000 per annum             55000   \n",
       "60672   65000 - 75000 per annum + bonus & benefits             70000   \n",
       "\n",
       "              SourceName  Log1pSalary  \n",
       "80823   cv-library.co.uk    10.450481  \n",
       "160450     totaljobs.com    10.915107  \n",
       "60672      totaljobs.com    11.156265  "
      ]
     },
     "execution_count": 5,
     "metadata": {},
     "output_type": "execute_result"
    }
   ],
   "source": [
    "text_columns = [\"Title\", \"FullDescription\"]\n",
    "categorical_columns = [\"Category\", \"Company\", \"LocationNormalized\", \"ContractType\", \"ContractTime\"]\n",
    "TARGET_COLUMN = \"Log1pSalary\"\n",
    "\n",
    "data[categorical_columns] = data[categorical_columns].fillna('NaN') # cast missing values to string \"NaN\"\n",
    "data[text_columns] = data[text_columns].fillna('NaN')\n",
    "\n",
    "data.sample(3)"
   ]
  },
  {
   "cell_type": "markdown",
   "metadata": {
    "id": "sJGyz6vgZe8w"
   },
   "source": [
    "### Preprocessing text data\n",
    "\n",
    "Just like last week, applying NLP to a problem begins from tokenization: splitting raw text into sequences of tokens (words, punctuation, etc).\n",
    "\n",
    "__Your task__ is to lowercase and tokenize all texts under `Title` and `FullDescription` columns. Store the tokenized data as a __space-separated__ string of tokens for performance reasons.\n",
    "\n",
    "It's okay to use nltk tokenizers. Assertions were designed for WordPunctTokenizer, slight deviations are okay."
   ]
  },
  {
   "cell_type": "code",
   "execution_count": 6,
   "metadata": {
    "colab": {
     "base_uri": "https://localhost:8080/"
    },
    "executionInfo": {
     "elapsed": 16,
     "status": "ok",
     "timestamp": 1624451930344,
     "user": {
      "displayName": "Aleksey Shimko",
      "photoUrl": "",
      "userId": "06639583344500545085"
     },
     "user_tz": -180
    },
    "id": "djOwAHFHZe8w",
    "outputId": "0fd7d361-66be-474e-9d4c-b6378937bc36",
    "scrolled": true
   },
   "outputs": [
    {
     "name": "stdout",
     "output_type": "stream",
     "text": [
      "Raw text:\n",
      "2         Mathematical Modeller / Simulation Analyst / O...\n",
      "100002    A successful and high achieving specialist sch...\n",
      "200002    Web Designer  HTML, CSS, JavaScript, Photoshop...\n",
      "Name: FullDescription, dtype: object\n"
     ]
    }
   ],
   "source": [
    "print(\"Raw text:\")\n",
    "print(data[\"FullDescription\"][2::100000])"
   ]
  },
  {
   "cell_type": "code",
   "execution_count": 7,
   "metadata": {
    "id": "pNGh27ebZe8x"
   },
   "outputs": [],
   "source": [
    "import nltk\n",
    "#TODO YOUR CODE HERE\n",
    "\n",
    "tokenizer = nltk.tokenize.WordPunctTokenizer()\n",
    "# YOUR CODE HERE\n",
    "\n",
    "data[text_columns] = data[text_columns].applymap(lambda x: \" \".join(tokenizer.tokenize(x.lower())))"
   ]
  },
  {
   "cell_type": "markdown",
   "metadata": {
    "id": "HSSSLCO1Ze8x"
   },
   "source": [
    "Now we can assume that our text is a space-separated list of tokens:"
   ]
  },
  {
   "cell_type": "code",
   "execution_count": 8,
   "metadata": {
    "colab": {
     "base_uri": "https://localhost:8080/"
    },
    "executionInfo": {
     "elapsed": 18,
     "status": "ok",
     "timestamp": 1624451948453,
     "user": {
      "displayName": "Aleksey Shimko",
      "photoUrl": "",
      "userId": "06639583344500545085"
     },
     "user_tz": -180
    },
    "id": "iWpQuVt7Ze8x",
    "outputId": "33d24fe4-abd1-46dc-ef33-b77dba376912"
   },
   "outputs": [
    {
     "name": "stdout",
     "output_type": "stream",
     "text": [
      "Tokenized:\n",
      "2         mathematical modeller / simulation analyst / o...\n",
      "100002    a successful and high achieving specialist sch...\n",
      "200002    web designer html , css , javascript , photosh...\n",
      "Name: FullDescription, dtype: object\n"
     ]
    }
   ],
   "source": [
    "print(\"Tokenized:\")\n",
    "print(data[\"FullDescription\"][2::100000])\n",
    "assert data[\"FullDescription\"][2][:50] == 'mathematical modeller / simulation analyst / opera'\n",
    "assert data[\"Title\"][54321] == 'international digital account manager ( german )'"
   ]
  },
  {
   "cell_type": "markdown",
   "metadata": {
    "id": "2OeLTODAZe8x"
   },
   "source": [
    "Not all words are equally useful. Some of them are typos or rare words that are only present a few times. \n",
    "\n",
    "Let's count how many times is each word present in the data so that we can build a \"white list\" of known words."
   ]
  },
  {
   "cell_type": "code",
   "execution_count": 9,
   "metadata": {
    "id": "bVN-jztCZe8x"
   },
   "outputs": [],
   "source": [
    "from collections import Counter\n",
    "token_counts = Counter()\n",
    "# Count how many times does each token occur in both \"Title\" and \"FullDescription\" in total\n",
    "#TODO <YOUR CODE>\n",
    "\n",
    "for col in text_columns:\n",
    "    for line in data[col].values:\n",
    "        token_counts.update(line.split(\" \"))"
   ]
  },
  {
   "cell_type": "code",
   "execution_count": 10,
   "metadata": {
    "colab": {
     "base_uri": "https://localhost:8080/"
    },
    "executionInfo": {
     "elapsed": 314,
     "status": "ok",
     "timestamp": 1624451959707,
     "user": {
      "displayName": "Aleksey Shimko",
      "photoUrl": "",
      "userId": "06639583344500545085"
     },
     "user_tz": -180
    },
    "id": "b-40HetcZe8y",
    "outputId": "2247cf66-4dba-4344-943b-bc87482043b7"
   },
   "outputs": [
    {
     "name": "stdout",
     "output_type": "stream",
     "text": [
      "Total unique tokens : 202704\n",
      "('and', 2657388)\n",
      "('.', 2523216)\n",
      "(',', 2318606)\n",
      "('the', 2080994)\n",
      "('to', 2019884)\n",
      "...\n",
      "('stephanietraveltraderecruitmnt', 1)\n",
      "('ruabon', 1)\n",
      "('lowehays', 1)\n",
      "Correct!\n"
     ]
    }
   ],
   "source": [
    "  print(\"Total unique tokens :\", len(token_counts))\n",
    "print('\\n'.join(map(str, token_counts.most_common(n=5))))\n",
    "print('...')\n",
    "print('\\n'.join(map(str, token_counts.most_common()[-3:])))\n",
    "\n",
    "assert token_counts.most_common(1)[0][1] in  range(2600000, 2700000)\n",
    "assert len(token_counts) in range(200000, 210000)\n",
    "print('Correct!')"
   ]
  },
  {
   "cell_type": "code",
   "execution_count": 11,
   "metadata": {
    "colab": {
     "base_uri": "https://localhost:8080/",
     "height": 279
    },
    "executionInfo": {
     "elapsed": 611,
     "status": "ok",
     "timestamp": 1624451960316,
     "user": {
      "displayName": "Aleksey Shimko",
      "photoUrl": "",
      "userId": "06639583344500545085"
     },
     "user_tz": -180
    },
    "id": "GNCP31cKZe8y",
    "outputId": "47ec110e-6336-4510-8076-4b96853d89a9"
   },
   "outputs": [
    {
     "data": {
      "image/png": "[encoded data removed]",
      "text/plain": [
       "<Figure size 432x288 with 1 Axes>"
      ]
     },
     "metadata": {
      "needs_background": "light"
     },
     "output_type": "display_data"
    }
   ],
   "source": [
    "# Let's see how many words are there for each count\n",
    "plt.hist(list(token_counts.values()), range=[0, 10**4], bins=50, log=True)\n",
    "plt.xlabel(\"Word counts\");"
   ]
  },
  {
   "cell_type": "markdown",
   "metadata": {
    "id": "cIWo0dm5Ze8y"
   },
   "source": [
    "__Task 1.1__ Get a list of all tokens that occur at least 10 times."
   ]
  },
  {
   "cell_type": "code",
   "execution_count": 12,
   "metadata": {
    "id": "iUB3KExsZe8y"
   },
   "outputs": [],
   "source": [
    "min_count = 10\n",
    "\n",
    "# tokens from token_counts keys that had at least min_count occurrences throughout the dataset\n",
    "#TODO <YOUR CODE>\n",
    "tokens = sorted(t for t, c in token_counts.items() if c >= min_count)\n",
    "\n",
    "# Add a special tokens for unknown and empty words\n",
    "UNK, PAD = \"UNK\", \"PAD\"\n",
    "tokens = [UNK, PAD] + tokens"
   ]
  },
  {
   "cell_type": "code",
   "execution_count": 13,
   "metadata": {
    "colab": {
     "base_uri": "https://localhost:8080/"
    },
    "executionInfo": {
     "elapsed": 15,
     "status": "ok",
     "timestamp": 1624451960317,
     "user": {
      "displayName": "Aleksey Shimko",
      "photoUrl": "",
      "userId": "06639583344500545085"
     },
     "user_tz": -180
    },
    "id": "kqDMQVGyZe8y",
    "outputId": "0b24fbe4-afb8-4b82-af42-48bbd2775f9a"
   },
   "outputs": [
    {
     "name": "stdout",
     "output_type": "stream",
     "text": [
      "Vocabulary size: 34158\n",
      "Correct!\n"
     ]
    }
   ],
   "source": [
    "print(\"Vocabulary size:\", len(tokens))\n",
    "assert type(tokens) == list\n",
    "assert len(tokens) in range(32000, 35000)\n",
    "assert 'me' in tokens\n",
    "assert UNK in tokens\n",
    "print(\"Correct!\")"
   ]
  },
  {
   "cell_type": "markdown",
   "metadata": {
    "id": "Z8JGwF9VZe8z"
   },
   "source": [
    "__Task 1.2__ Build an inverse token index: a dictionary from token(string) to it's index in `tokens` (int)"
   ]
  },
  {
   "cell_type": "code",
   "execution_count": 14,
   "metadata": {
    "id": "XcrdkC_RZe8z"
   },
   "outputs": [],
   "source": [
    "# TODO <YOUR CODE>\n",
    "token_to_id = {t: i for i, t in enumerate(tokens)}"
   ]
  },
  {
   "cell_type": "code",
   "execution_count": 15,
   "metadata": {
    "colab": {
     "base_uri": "https://localhost:8080/"
    },
    "executionInfo": {
     "elapsed": 13,
     "status": "ok",
     "timestamp": 1624451960318,
     "user": {
      "displayName": "Aleksey Shimko",
      "photoUrl": "",
      "userId": "06639583344500545085"
     },
     "user_tz": -180
    },
    "id": "MrfWfH7MZe8z",
    "outputId": "1e0f9607-694e-400b-91a0-eaf671dbd912"
   },
   "outputs": [
    {
     "name": "stdout",
     "output_type": "stream",
     "text": [
      "Correct!\n"
     ]
    }
   ],
   "source": [
    "assert isinstance(token_to_id, dict)\n",
    "assert len(token_to_id) == len(tokens)\n",
    "for tok in tokens:\n",
    "    assert tokens[token_to_id[tok]] == tok\n",
    "\n",
    "print(\"Correct!\")"
   ]
  },
  {
   "cell_type": "markdown",
   "metadata": {
    "id": "wYj9cyTXZe8z"
   },
   "source": [
    "And finally, let's use the vocabulary you've built to map text lines into neural network-digestible matrices."
   ]
  },
  {
   "cell_type": "code",
   "execution_count": 16,
   "metadata": {
    "id": "ExQNSGMrZe8z"
   },
   "outputs": [],
   "source": [
    "UNK_IX, PAD_IX = map(token_to_id.get, [UNK, PAD])\n",
    "\n",
    "def as_matrix(sequences, max_len=None):\n",
    "    \"\"\" Convert a list of tokens into a matrix with padding \"\"\"\n",
    "    if isinstance(sequences[0], str):\n",
    "        sequences = list(map(str.split, sequences))\n",
    "        \n",
    "    max_len = min(max(map(len, sequences)), max_len or float('inf'))\n",
    "    \n",
    "    matrix = np.full((len(sequences), max_len), np.int32(PAD_IX))\n",
    "    for i,seq in enumerate(sequences):\n",
    "        row_ix = [token_to_id.get(word, UNK_IX) for word in seq[:max_len]]\n",
    "        matrix[i, :len(row_ix)] = row_ix\n",
    "    \n",
    "    return matrix"
   ]
  },
  {
   "cell_type": "code",
   "execution_count": 17,
   "metadata": {
    "colab": {
     "base_uri": "https://localhost:8080/"
    },
    "executionInfo": {
     "elapsed": 10,
     "status": "ok",
     "timestamp": 1624451960319,
     "user": {
      "displayName": "Aleksey Shimko",
      "photoUrl": "",
      "userId": "06639583344500545085"
     },
     "user_tz": -180
    },
    "id": "5bd1OxoyZe80",
    "outputId": "725f51df-76bd-4758-f176-6da347d8d021"
   },
   "outputs": [
    {
     "name": "stdout",
     "output_type": "stream",
     "text": [
      "Lines:\n",
      "engineering systems analyst\n",
      "hr assistant\n",
      "senior ec & i engineer\n",
      "\n",
      "Matrix:\n",
      "[[10807 30161  2166     1     1]\n",
      " [15020  2844     1     1     1]\n",
      " [27645 10201    16 15215 10804]]\n"
     ]
    }
   ],
   "source": [
    "print(\"Lines:\")\n",
    "print('\\n'.join(data[\"Title\"][::100000].values), end='\\n\\n')\n",
    "print(\"Matrix:\")\n",
    "print(as_matrix(data[\"Title\"][::100000]))"
   ]
  },
  {
   "cell_type": "markdown",
   "metadata": {
    "id": "DsXCKzrUZe80"
   },
   "source": [
    "Now let's  encode the categirical data we have.\n",
    "\n",
    "As usual, we shall use one-hot encoding for simplicity. Kudos if you implement more advanced encodings: tf-idf, pseudo-time-series, etc."
   ]
  },
  {
   "cell_type": "code",
   "execution_count": 18,
   "metadata": {
    "colab": {
     "base_uri": "https://localhost:8080/"
    },
    "executionInfo": {
     "elapsed": 6266,
     "status": "ok",
     "timestamp": 1624451966578,
     "user": {
      "displayName": "Aleksey Shimko",
      "photoUrl": "",
      "userId": "06639583344500545085"
     },
     "user_tz": -180
    },
    "id": "cr-qdrh3Ze81",
    "outputId": "4d64bcee-2d36-4b76-c317-d44759dce874"
   },
   "outputs": [
    {
     "data": {
      "text/plain": [
       "DictVectorizer(dtype=<class 'numpy.float32'>, sparse=False)"
      ]
     },
     "execution_count": 18,
     "metadata": {},
     "output_type": "execute_result"
    }
   ],
   "source": [
    "from sklearn.feature_extraction import DictVectorizer\n",
    "\n",
    "# we only consider top-1k most frequent companies to minimize memory usage\n",
    "top_companies, top_counts = zip(*Counter(data['Company']).most_common(1000))\n",
    "recognized_companies = set(top_companies)\n",
    "data[\"Company\"] = data[\"Company\"].apply(lambda comp: comp if comp in recognized_companies else \"Other\")\n",
    "\n",
    "categorical_vectorizer = DictVectorizer(dtype=np.float32, sparse=False)\n",
    "categorical_vectorizer.fit(data[categorical_columns].apply(dict, axis=1))"
   ]
  },
  {
   "cell_type": "markdown",
   "metadata": {
    "id": "mJDgbkHZZe81"
   },
   "source": [
    "### The deep learning part\n",
    "\n",
    "Once we've learned to tokenize the data, let's design a machine learning experiment.\n",
    "\n",
    "As before, we won't focus too much on validation, opting for a simple train-test split.\n",
    "\n",
    "__To be completely rigorous,__ we've comitted a small crime here: we used the whole data for tokenization and vocabulary building. A more strict way would be to do that part on training set only. You may want to do that and measure the magnitude of changes."
   ]
  },
  {
   "cell_type": "code",
   "execution_count": 19,
   "metadata": {
    "colab": {
     "base_uri": "https://localhost:8080/"
    },
    "executionInfo": {
     "elapsed": 18,
     "status": "ok",
     "timestamp": 1624451966578,
     "user": {
      "displayName": "Aleksey Shimko",
      "photoUrl": "",
      "userId": "06639583344500545085"
     },
     "user_tz": -180
    },
    "id": "3sURw9HXZe81",
    "outputId": "39c9d1dc-07f4-4ab3-d5a8-2663b7e0ff6f"
   },
   "outputs": [
    {
     "name": "stdout",
     "output_type": "stream",
     "text": [
      "Train size =  220291\n",
      "Validation size =  24477\n"
     ]
    }
   ],
   "source": [
    "from sklearn.model_selection import train_test_split\n",
    "\n",
    "data_train, data_val = train_test_split(data, test_size=0.1, random_state=77)\n",
    "data_train.index = range(len(data_train))\n",
    "data_val.index = range(len(data_val))\n",
    "\n",
    "print(\"Train size = \", len(data_train))\n",
    "print(\"Validation size = \", len(data_val))"
   ]
  },
  {
   "cell_type": "code",
   "execution_count": 20,
   "metadata": {
    "id": "Il8wpyN1Ze81"
   },
   "outputs": [],
   "source": [
    "import torch\n",
    "\n",
    "def to_tensors(batch, device):\n",
    "    batch_tensors = dict()\n",
    "    for key, arr in batch.items():\n",
    "        if key in [\"FullDescription\", \"Title\"]:\n",
    "            batch_tensors[key] = torch.tensor(arr, device=device, dtype=torch.int64)\n",
    "        else:\n",
    "            batch_tensors[key] = torch.tensor(arr, device=device)\n",
    "    return batch_tensors\n",
    "\n",
    "def make_batch(data, max_len=None, word_dropout=0, device=torch.device('cpu')):\n",
    "    \"\"\"\n",
    "    Creates a keras-friendly dict from the batch data.\n",
    "    :param word_dropout: replaces token index with UNK_IX with this probability\n",
    "    :returns: a dict with {'title' : int64[batch, title_max_len]\n",
    "    \"\"\"\n",
    "    batch = {}\n",
    "    batch[\"Title\"] = as_matrix(data[\"Title\"].values, max_len)\n",
    "    batch[\"FullDescription\"] = as_matrix(data[\"FullDescription\"].values, max_len)\n",
    "    batch['Categorical'] = categorical_vectorizer.transform(data[categorical_columns].apply(dict, axis=1))\n",
    "    \n",
    "    if word_dropout != 0:\n",
    "        batch[\"FullDescription\"] = apply_word_dropout(batch[\"FullDescription\"], 1. - word_dropout)\n",
    "    \n",
    "    if TARGET_COLUMN in data.columns:\n",
    "        batch[TARGET_COLUMN] = data[TARGET_COLUMN].values\n",
    "    \n",
    "    return to_tensors(batch, device)\n",
    "\n",
    "def apply_word_dropout(matrix, keep_prop, replace_with=UNK_IX, pad_ix=PAD_IX,):\n",
    "    dropout_mask = np.random.choice(2, np.shape(matrix), p=[keep_prop, 1 - keep_prop])\n",
    "    dropout_mask &= matrix != pad_ix\n",
    "    return np.choose(dropout_mask, [matrix, np.full_like(matrix, replace_with)])"
   ]
  },
  {
   "cell_type": "code",
   "execution_count": 21,
   "metadata": {
    "colab": {
     "base_uri": "https://localhost:8080/"
    },
    "executionInfo": {
     "elapsed": 399,
     "status": "ok",
     "timestamp": 1624451970485,
     "user": {
      "displayName": "Aleksey Shimko",
      "photoUrl": "",
      "userId": "06639583344500545085"
     },
     "user_tz": -180
    },
    "id": "dRKoBF_gZe82",
    "outputId": "aadc0cf5-8e62-4008-a968-e7e0b26bb085",
    "scrolled": true
   },
   "outputs": [
    {
     "data": {
      "text/plain": [
       "{'Title': tensor([[27645, 26986,  1587,   197, 11192,  1700],\n",
       "         [27280, 13650, 30409,  2844,     1,     1],\n",
       "         [ 4986,  9083, 18864,     1,     1,     1]]),\n",
       " 'FullDescription': tensor([[32937, 31100, 33664, 12587,   982, 17753, 11192,  1693,   943,  8110],\n",
       "         [ 2572, 33996,   982, 13650,   158, 33554,   982,   437, 22021,    82],\n",
       "         [33996, 33435, 30323, 33554,  3002, 20893, 11312,   158,  7151, 31100]]),\n",
       " 'Categorical': tensor([[0., 0., 0.,  ..., 0., 0., 0.],\n",
       "         [0., 0., 0.,  ..., 0., 0., 0.],\n",
       "         [0., 0., 0.,  ..., 0., 0., 0.]]),\n",
       " 'Log1pSalary': tensor([10.5967,  9.5325, 10.4631])}"
      ]
     },
     "execution_count": 21,
     "metadata": {},
     "output_type": "execute_result"
    }
   ],
   "source": [
    "make_batch(data_train[:3], max_len=10)"
   ]
  },
  {
   "cell_type": "markdown",
   "metadata": {
    "id": "J8f9-Y01Ze82"
   },
   "source": [
    "#### Architecture\n",
    "\n",
    "Our basic model consists of three branches:\n",
    "* Title encoder\n",
    "* Description encoder\n",
    "* Categorical features encoder\n",
    "\n",
    "We will then feed all 3 branches into one common network that predicts salary.\n",
    "\n",
    "![scheme](https://github.com/yandexdataschool/nlp_course/raw/master/resources/w2_conv_arch.png)"
   ]
  },
  {
   "cell_type": "markdown",
   "metadata": {
    "id": "x-zT-Hu_Ze82"
   },
   "source": [
    "This clearly doesn't fit into keras' __Sequential__ interface. To build such a network, one will have to use PyTorch."
   ]
  },
  {
   "cell_type": "code",
   "execution_count": 22,
   "metadata": {
    "id": "obkMJ46pZe83"
   },
   "outputs": [],
   "source": [
    "import torch\n",
    "import torch.nn as nn\n",
    "import torch.functional as F"
   ]
  },
  {
   "cell_type": "code",
   "execution_count": 23,
   "metadata": {
    "id": "F4LgLJtEZe83"
   },
   "outputs": [],
   "source": [
    "class SalaryPredictor(nn.Module):\n",
    "    def __init__(self, n_tokens=len(tokens), n_cat_features=len(categorical_vectorizer.vocabulary_), hid_size=8):\n",
    "        super().__init__()\n",
    "        self.embedder = nn.Embedding(n_tokens, hid_size)\n",
    "        self.title_encoder = nn.Sequential(\n",
    "            nn.Conv1d(hid_size, hid_size, kernel_size=2),\n",
    "            nn.Dropout(p=0.25),\n",
    "            nn.ReLU(),\n",
    "            nn.AdaptiveMaxPool1d(output_size=1)\n",
    "        )\n",
    "        self.description_encoder = nn.Sequential(\n",
    "            nn.Conv1d(hid_size, hid_size, kernel_size=2),\n",
    "            nn.Dropout(p=0.25),\n",
    "            nn.ReLU(),\n",
    "            nn.AdaptiveMaxPool1d(output_size=1)\n",
    "        )\n",
    "        self.categorical_encoder = nn.Sequential(\n",
    "            nn.Linear(n_cat_features, hid_size * 2),\n",
    "            nn.ReLU(),\n",
    "            nn.Linear(hid_size * 2, hid_size * 2),\n",
    "            nn.ReLU()\n",
    "        )\n",
    "        self.final_predictor = nn.Sequential(\n",
    "            nn.Linear(hid_size * 4, hid_size),\n",
    "            nn.ReLU(),\n",
    "            nn.Linear(hid_size, 1)\n",
    "        )\n",
    "        #  YOUR CODE HERE\n",
    "\n",
    "        \n",
    "    def forward(self, batch):\n",
    "        # YOUR CODE HERE\n",
    "        title_embeddings = self.embedder(batch['Title']).permute(0, 2, 1)\n",
    "        title_features = self.title_encoder(title_embeddings).squeeze()\n",
    "\n",
    "        description_embeddings = self.embedder(batch['FullDescription']).permute(0, 2, 1)\n",
    "        description_features = self.description_encoder(description_embeddings).squeeze()\n",
    "\n",
    "        categorical_features = self.categorical_encoder(batch['Categorical'])\n",
    "\n",
    "        features = torch.cat(\n",
    "            [title_features, description_features, categorical_features], dim=1)\n",
    "        \n",
    "        return self.final_predictor(features).squeeze()"
   ]
  },
  {
   "cell_type": "code",
   "execution_count": 24,
   "metadata": {
    "id": "o8WvtlOUZe83"
   },
   "outputs": [],
   "source": [
    "model = SalaryPredictor()"
   ]
  },
  {
   "cell_type": "code",
   "execution_count": 25,
   "metadata": {
    "id": "JBS7PlCrZe83"
   },
   "outputs": [],
   "source": [
    "model = SalaryPredictor()\n",
    "batch = make_batch(data_train[:100])\n",
    "criterion = nn.MSELoss()\n",
    "\n",
    "dummy_pred = model(batch)\n",
    "dummy_loss = criterion(dummy_pred, batch[TARGET_COLUMN])\n",
    "assert dummy_pred.shape == torch.Size([100])\n",
    "assert len(np.unique(dummy_pred.detach().numpy())) > 20, \"model returns suspiciously few unique outputs. Check your initialization\"\n",
    "assert dummy_loss.ndim == 0 and 0. <= dummy_loss <= 250., \"make sure you minimize MSE\""
   ]
  },
  {
   "cell_type": "markdown",
   "metadata": {
    "id": "WmImJv70Ze83"
   },
   "source": [
    "#### Training and evaluation\n",
    "\n",
    "As usual, we gonna feed our monster with random minibatches of data. \n",
    "\n",
    "As we train, we want to monitor not only loss function, which is computed in log-space, but also the actual error measured in dollars."
   ]
  },
  {
   "cell_type": "code",
   "execution_count": 26,
   "metadata": {
    "id": "lBwOV5duZe84"
   },
   "outputs": [],
   "source": [
    "def iterate_minibatches(data, batch_size=256, shuffle=True, cycle=False, **kwargs):\n",
    "    \"\"\" iterates minibatches of data in random order \"\"\"\n",
    "    while True:\n",
    "        indices = np.arange(len(data))\n",
    "        if shuffle:\n",
    "            indices = np.random.permutation(indices)\n",
    "\n",
    "        for start in range(0, len(indices), batch_size):\n",
    "            batch = make_batch(data.iloc[indices[start : start + batch_size]], **kwargs)\n",
    "            yield batch\n",
    "        \n",
    "        if not cycle: break"
   ]
  },
  {
   "cell_type": "markdown",
   "metadata": {
    "id": "H7ExfuFkZe84"
   },
   "source": [
    "### Model training\n",
    "\n",
    "We can now fit our model the usual minibatch way. The interesting part is that we train on an infinite stream of minibatches, produced by `iterate_minibatches` function."
   ]
  },
  {
   "cell_type": "code",
   "execution_count": 27,
   "metadata": {
    "id": "qNW1PL0mZe84"
   },
   "outputs": [],
   "source": [
    "import tqdm\n",
    "\n",
    "BATCH_SIZE = 128\n",
    "EPOCHS = 3\n",
    "DEVICE = torch.device('cuda')"
   ]
  },
  {
   "cell_type": "code",
   "execution_count": 28,
   "metadata": {
    "id": "Bsu0gequZe84"
   },
   "outputs": [],
   "source": [
    "def print_metrics(model, data, batch_size=BATCH_SIZE, name=\"\", **kw):\n",
    "    squared_error = abs_error = num_samples = 0.0\n",
    "    model.eval()\n",
    "    with torch.no_grad():\n",
    "        for batch in iterate_minibatches(data, batch_size=batch_size, shuffle=False, **kw):\n",
    "            batch_pred = model(batch)\n",
    "            squared_error += torch.mean(torch.square(batch_pred - batch[TARGET_COLUMN]))\n",
    "            abs_error += torch.mean(torch.abs(batch_pred - batch[TARGET_COLUMN]))\n",
    "            num_samples += len(batch)\n",
    "    mse = squared_error.detach().cpu().numpy() / num_samples\n",
    "    mae = abs_error.detach().cpu().numpy() / num_samples\n",
    "    print(\"%s results:\" % (name or \"\"))\n",
    "    print(\"Mean square error: %.5f\" % mse)\n",
    "    print(\"Mean absolute error: %.5f\" % mae)\n",
    "    return mse, mae"
   ]
  },
  {
   "cell_type": "code",
   "execution_count": 29,
   "metadata": {
    "colab": {
     "base_uri": "https://localhost:8080/",
     "height": 1000,
     "referenced_widgets": [
      "3a34a95aa682439fbce7c40ac232bfa3",
      "30902776c0564143a69d7b6ebf0fe9b9",
      "b5308c327f5c4395852638002e93312a",
      "1c6445766414415e99ac32fb94686dca",
      "7b79ef9602d041acada88a1e3e75fa7f",
      "df3fe642b3184ce89286cd052f047cbd",
      "d32c4d65bc164e30aca844c670363ae3",
      "995b4b20bd094ab4b5a3d2027c45fdca",
      "6505bbb46d7f4ffa9794fde8861cd8fb",
      "03bbe0d4b0524a85be49a1b119aaa66a",
      "0f5b3da7508f461595456f1316465dae",
      "b6d38ddc1e4948c9b98a6d79c18cd5a5",
      "b2b39e59a46a4338bc75afd376e69931",
      "b680fa64dc604e6d94697242310428e9",
      "4722c85bb02b4291a90e6402d86397fa",
      "c34336639978471f8e0f6aa78e1955ff",
      "a2b99faed0f54678811698f312ed80a4",
      "df9c2a9f3fe04519853a361700e3c056",
      "421c51a1bf9d4be4ad8c445ad5c6fce8",
      "73e5ea94ed2c45f5b25d1281f66b59bf",
      "cc9eef35c7da4872bac60bd46110fa04",
      "98b0239d3c6c4c8ca82d0f7cb96734fe",
      "2dae3fd3baad438aa9436206e741ac38",
      "af9922f672f54841b5acb1379534d1e5"
     ]
    },
    "executionInfo": {
     "elapsed": 301404,
     "status": "ok",
     "timestamp": 1624452272144,
     "user": {
      "displayName": "Aleksey Shimko",
      "photoUrl": "",
      "userId": "06639583344500545085"
     },
     "user_tz": -180
    },
    "id": "guTdyDx1Ze84",
    "outputId": "e5686c5f-efba-4a6e-f161-4672ddaf92f8"
   },
   "outputs": [
    {
     "name": "stdout",
     "output_type": "stream",
     "text": [
      "epoch: 0\n"
     ]
    },
    {
     "data": {
      "application/vnd.jupyter.widget-view+json": {
       "model_id": "89ad940ed58345e5b02fb74432a8989b",
       "version_major": 2,
       "version_minor": 0
      },
      "text/plain": [
       "  0%|          | 0/1721 [00:00<?, ?it/s]"
      ]
     },
     "metadata": {},
     "output_type": "display_data"
    },
    {
     "name": "stdout",
     "output_type": "stream",
     "text": [
      "train_loss 39.18674850463867\n",
      "val results:\n",
      "Mean square error: 11.10848\n",
      "Mean absolute error: 1.66160\n",
      "train_loss 0.5022580623626709\n",
      "val results:\n",
      "Mean square error: 0.60445\n",
      "Mean absolute error: 0.35671\n",
      "train_loss 0.5287799835205078\n",
      "val results:\n",
      "Mean square error: 0.55601\n",
      "Mean absolute error: 0.34466\n",
      "train_loss 0.5435547828674316\n",
      "val results:\n",
      "Mean square error: 0.55280\n",
      "Mean absolute error: 0.34728\n",
      "train_loss 0.31716862320899963\n",
      "val results:\n",
      "Mean square error: 0.53329\n",
      "Mean absolute error: 0.34300\n",
      "train_loss 0.31949102878570557\n",
      "val results:\n",
      "Mean square error: 0.54058\n",
      "Mean absolute error: 0.34757\n",
      "train_loss 0.23707890510559082\n",
      "val results:\n",
      "Mean square error: 0.53955\n",
      "Mean absolute error: 0.34860\n",
      "train_loss 0.24107620120048523\n",
      "val results:\n",
      "Mean square error: 0.53101\n",
      "Mean absolute error: 0.34668\n",
      "train_loss 0.20287807285785675\n",
      "val results:\n",
      "Mean square error: 0.53266\n",
      "Mean absolute error: 0.34808\n",
      "train_loss 0.17421306669712067\n",
      "val results:\n",
      "Mean square error: 0.50989\n",
      "Mean absolute error: 0.34057\n",
      "train_loss 0.191564679145813\n",
      "val results:\n",
      "Mean square error: 0.49735\n",
      "Mean absolute error: 0.33658\n",
      "train_loss 0.19573107361793518\n",
      "val results:\n",
      "Mean square error: 0.50670\n",
      "Mean absolute error: 0.34051\n",
      "train_loss 0.1890435665845871\n",
      "val results:\n",
      "Mean square error: 0.50488\n",
      "Mean absolute error: 0.34029\n",
      "train_loss 0.1886979043483734\n",
      "val results:\n",
      "Mean square error: 0.49601\n",
      "Mean absolute error: 0.33737\n",
      "train_loss 0.23603972792625427\n",
      "val results:\n",
      "Mean square error: 0.47953\n",
      "Mean absolute error: 0.33154\n",
      "train_loss 0.1589406430721283\n",
      "val results:\n",
      "Mean square error: 0.48837\n",
      "Mean absolute error: 0.33519\n",
      "train_loss 0.18307724595069885\n",
      "val results:\n",
      "Mean square error: 0.46490\n",
      "Mean absolute error: 0.32657\n",
      "epoch: 1\n"
     ]
    },
    {
     "data": {
      "application/vnd.jupyter.widget-view+json": {
       "model_id": "547c6c2fe5ce463b8a21284c88b76bf5",
       "version_major": 2,
       "version_minor": 0
      },
      "text/plain": [
       "  0%|          | 0/1721 [00:00<?, ?it/s]"
      ]
     },
     "metadata": {},
     "output_type": "display_data"
    },
    {
     "name": "stdout",
     "output_type": "stream",
     "text": [
      "train_loss 0.15527833998203278\n",
      "val results:\n",
      "Mean square error: 0.46261\n",
      "Mean absolute error: 0.32594\n",
      "train_loss 0.18076731264591217\n",
      "val results:\n",
      "Mean square error: 0.45324\n",
      "Mean absolute error: 0.32255\n",
      "train_loss 0.15134185552597046\n",
      "val results:\n",
      "Mean square error: 0.45582\n",
      "Mean absolute error: 0.32376\n",
      "train_loss 0.17249725759029388\n",
      "val results:\n",
      "Mean square error: 0.42113\n",
      "Mean absolute error: 0.31031\n",
      "train_loss 0.09501038491725922\n",
      "val results:\n",
      "Mean square error: 0.42918\n",
      "Mean absolute error: 0.31370\n",
      "train_loss 0.15084807574748993\n",
      "val results:\n",
      "Mean square error: 0.41923\n",
      "Mean absolute error: 0.30995\n",
      "train_loss 0.12831063568592072\n",
      "val results:\n",
      "Mean square error: 0.40255\n",
      "Mean absolute error: 0.30335\n",
      "train_loss 0.16282078623771667\n",
      "val results:\n",
      "Mean square error: 0.37844\n",
      "Mean absolute error: 0.29344\n",
      "train_loss 0.13525640964508057\n",
      "val results:\n",
      "Mean square error: 0.39133\n",
      "Mean absolute error: 0.29899\n",
      "train_loss 0.1308297961950302\n",
      "val results:\n",
      "Mean square error: 0.38244\n",
      "Mean absolute error: 0.29541\n",
      "train_loss 0.13364635407924652\n",
      "val results:\n",
      "Mean square error: 0.36842\n",
      "Mean absolute error: 0.28955\n",
      "train_loss 0.1547682285308838\n",
      "val results:\n",
      "Mean square error: 0.35309\n",
      "Mean absolute error: 0.28302\n",
      "train_loss 0.12661416828632355\n",
      "val results:\n",
      "Mean square error: 0.35712\n",
      "Mean absolute error: 0.28487\n",
      "train_loss 0.13954511284828186\n",
      "val results:\n",
      "Mean square error: 0.35557\n",
      "Mean absolute error: 0.28430\n",
      "train_loss 0.1358848512172699\n",
      "val results:\n",
      "Mean square error: 0.33249\n",
      "Mean absolute error: 0.27415\n",
      "train_loss 0.10697086900472641\n",
      "val results:\n",
      "Mean square error: 0.32451\n",
      "Mean absolute error: 0.27066\n",
      "train_loss 0.1450771689414978\n",
      "val results:\n",
      "Mean square error: 0.35791\n",
      "Mean absolute error: 0.28568\n",
      "epoch: 2\n"
     ]
    },
    {
     "data": {
      "application/vnd.jupyter.widget-view+json": {
       "model_id": "aa82a3b379e84e2db9cdd907ac1391b2",
       "version_major": 2,
       "version_minor": 0
      },
      "text/plain": [
       "  0%|          | 0/1721 [00:00<?, ?it/s]"
      ]
     },
     "metadata": {},
     "output_type": "display_data"
    },
    {
     "name": "stdout",
     "output_type": "stream",
     "text": [
      "train_loss 0.13183096051216125\n",
      "val results:\n",
      "Mean square error: 0.30321\n",
      "Mean absolute error: 0.26093\n",
      "train_loss 0.11664220690727234\n",
      "val results:\n",
      "Mean square error: 0.33061\n",
      "Mean absolute error: 0.27375\n",
      "train_loss 0.13893504440784454\n",
      "val results:\n",
      "Mean square error: 0.31292\n",
      "Mean absolute error: 0.26576\n",
      "train_loss 0.11026822030544281\n",
      "val results:\n",
      "Mean square error: 0.34673\n",
      "Mean absolute error: 0.28118\n",
      "train_loss 0.14798682928085327\n",
      "val results:\n",
      "Mean square error: 0.32388\n",
      "Mean absolute error: 0.27098\n",
      "train_loss 0.10947026312351227\n",
      "val results:\n",
      "Mean square error: 0.27221\n",
      "Mean absolute error: 0.24631\n",
      "train_loss 0.13602539896965027\n",
      "val results:\n",
      "Mean square error: 0.29348\n",
      "Mean absolute error: 0.25688\n",
      "train_loss 0.1659209132194519\n",
      "val results:\n",
      "Mean square error: 0.28196\n",
      "Mean absolute error: 0.25133\n",
      "train_loss 0.10443275421857834\n",
      "val results:\n",
      "Mean square error: 0.27299\n",
      "Mean absolute error: 0.24694\n",
      "train_loss 0.1093248575925827\n",
      "val results:\n",
      "Mean square error: 0.26899\n",
      "Mean absolute error: 0.24511\n",
      "train_loss 0.11880579590797424\n",
      "val results:\n",
      "Mean square error: 0.26879\n",
      "Mean absolute error: 0.24504\n",
      "train_loss 0.132974311709404\n",
      "val results:\n",
      "Mean square error: 0.26082\n",
      "Mean absolute error: 0.24113\n",
      "train_loss 0.1452804058790207\n",
      "val results:\n",
      "Mean square error: 0.24140\n",
      "Mean absolute error: 0.23107\n",
      "train_loss 0.12068711221218109\n",
      "val results:\n",
      "Mean square error: 0.25389\n",
      "Mean absolute error: 0.23764\n",
      "train_loss 0.11648637056350708\n",
      "val results:\n",
      "Mean square error: 0.25720\n",
      "Mean absolute error: 0.23946\n",
      "train_loss 0.10625283420085907\n",
      "val results:\n",
      "Mean square error: 0.26320\n",
      "Mean absolute error: 0.24273\n",
      "train_loss 0.10846088081598282\n",
      "val results:\n",
      "Mean square error: 0.24442\n",
      "Mean absolute error: 0.23296\n"
     ]
    }
   ],
   "source": [
    "model = SalaryPredictor().to(DEVICE)\n",
    "criterion = nn.MSELoss(reduction='mean')\n",
    "optimizer = torch.optim.Adam(model.parameters(), lr=1e-3)\n",
    "\n",
    "for epoch in range(EPOCHS):\n",
    "    print(f\"epoch: {epoch}\")\n",
    "    for i, batch in tqdm.notebook.tqdm(enumerate(\n",
    "            iterate_minibatches(\n",
    "                    data_train, \n",
    "                    batch_size=BATCH_SIZE, \n",
    "                    device=DEVICE)), \n",
    "                total=len(data_train) // BATCH_SIZE\n",
    "        ):\n",
    "        model.train()\n",
    "        pred = model(batch)\n",
    "        optimizer.zero_grad()\n",
    "        loss = criterion(pred, batch[TARGET_COLUMN])\n",
    "        loss.backward()\n",
    "        optimizer.step()\n",
    "\n",
    "        if i % 100 == 99:\n",
    "            print('train_loss', loss.item())\n",
    "            print_metrics(model, data_val, name='val', batch_size=BATCH_SIZE, device=DEVICE)"
   ]
  },
  {
   "cell_type": "markdown",
   "metadata": {},
   "source": [
    "# 1. Развейте СNN архитектуру (2 балла)\n",
    "\n",
    "Добавьте в пайплайн\n",
    "\n",
    "*   Batch Norm (nn.BatchNorm), LayerNorm...\n",
    "*   Параллельные сверточные слои. Идея в том, чтобы применить несколько nn.Conv1d к одному и тому же эмбеддингу и после этого сконкатенировать выходные каналы\n",
    "*   Больше слоев...\n",
    "*   Добавьте раннюю остановку\n",
    "\n",
    "На каких примерах модели ведут себя максимально различно/похоже? Предположите с чем это может быть связано. \n",
    "\n",
    "Как модель ведет себя в зависимости от количества обучаемых параметров?"
   ]
  },
  {
   "cell_type": "markdown",
   "metadata": {},
   "source": [
    "Улучшим процесс обучения, добавим раннюю остановку и запись статистики, чтобы нарисовать графики"
   ]
  },
  {
   "cell_type": "code",
   "execution_count": 30,
   "metadata": {},
   "outputs": [],
   "source": [
    "# model = SalaryPredictor().to(DEVICE)\n",
    "# criterion = nn.MSELoss(reduction='mean')\n",
    "# optimizer = torch.optim.Adam(model.parameters(), lr=1e-3)\n",
    "\n",
    "\n",
    "def train_model(model):\n",
    "    criterion = nn.MSELoss(reduction='mean')\n",
    "    optimizer = torch.optim.Adam(model.parameters(), lr=1e-3)\n",
    "    stats_mse = []\n",
    "    stats_mae = []\n",
    "    stats_loss = []\n",
    "    marker = 0\n",
    "    con = True\n",
    "    past_loss = 10**10\n",
    "    for epoch in range(EPOCHS):\n",
    "        if con:\n",
    "            pass\n",
    "        else:\n",
    "            print(\"Stop training, early stop!\")\n",
    "        print(f\"epoch: {epoch + 1}\")\n",
    "        for i, batch in tqdm.notebook.tqdm(enumerate(\n",
    "                iterate_minibatches(\n",
    "                        data_train, \n",
    "                        batch_size=BATCH_SIZE, \n",
    "                        device=DEVICE)), \n",
    "                    total=len(data_train) // BATCH_SIZE\n",
    "            ):\n",
    "            model.train()\n",
    "            pred = model(batch)\n",
    "            optimizer.zero_grad()\n",
    "            loss = criterion(pred, batch[TARGET_COLUMN])\n",
    "            loss.backward()\n",
    "            optimizer.step()\n",
    "            l = loss.item()\n",
    "            if l > past_loss:\n",
    "                marker = 0\n",
    "            if marker > 8:\n",
    "                print(\"8 times loss not decreased!\")\n",
    "                con = False\n",
    "                break\n",
    "            past_loss=l\n",
    "            if i % 100 == 99:\n",
    "                print('train_loss', loss.item())\n",
    "                stats_loss.append(loss.item())\n",
    "                s, a =print_metrics(model, data_val, name='val', batch_size=BATCH_SIZE, device=DEVICE)\n",
    "                stats_mse.append(s)\n",
    "                stats_mae.append(a)\n",
    "    plt.figure()\n",
    "    plt.plot(stats_loss, color=\"red\")\n",
    "    plt.plot(stats_mae)\n",
    "    plt.plot(stats_mse)\n",
    "    plt.title(\"Statisctics (Training)\")\n",
    "    plt.show()"
   ]
  },
  {
   "cell_type": "code",
   "execution_count": 31,
   "metadata": {},
   "outputs": [],
   "source": [
    "class SalaryPredictor1(nn.Module):\n",
    "    def __init__(self, n_tokens=len(tokens), n_cat_features=len(categorical_vectorizer.vocabulary_), hid_size=8):\n",
    "        \n",
    "        # Часть пайплайна через которую будет проходить данные\n",
    "        def module(hid_size):\n",
    "            \n",
    "            module =  nn.Sequential(\n",
    "\n",
    "                nn.Conv1d(hid_size, hid_size, kernel_size=2),\n",
    "\n",
    "                nn.LazyBatchNorm1d(),\n",
    "\n",
    "                nn.Dropout(p=0.2),\n",
    "\n",
    "                nn.ReLU(),\n",
    "\n",
    "                nn.AdaptiveMaxPool1d(output_size=1)\n",
    "            )\n",
    "            \n",
    "            return module\n",
    "\n",
    "        \n",
    "        super().__init__()\n",
    "        self.embedder = nn.Embedding(n_tokens, hid_size)\n",
    "        self.conv1 = module(hid_size)\n",
    "        self.conv2 = module(hid_size)\n",
    "        self.conv1 = module(hid_size)\n",
    "        self.conv2 = module(hid_size)\n",
    "        \n",
    "        self.categorical_encoder = nn.Sequential(\n",
    "            nn.Linear(n_cat_features, hid_size * 4),\n",
    "            nn.ReLU(),\n",
    "            nn.Linear(hid_size * 4, hid_size * 2),\n",
    "            nn.ReLU()\n",
    "        )\n",
    "        \n",
    "        self.final_predictor = nn.Sequential(\n",
    "            nn.LazyLinear(hid_size   ),\n",
    "            nn.ReLU(),\n",
    "            nn.LazyLinear(1),\n",
    "        )\n",
    "\n",
    "        \n",
    "    def forward(self, batch):\n",
    "        title_embeddings = self.embedder(batch['Title']).permute(0, 2, 1)\n",
    "        title_features1 = self.conv1(title_embeddings).squeeze()\n",
    "        title_features2 = self.conv2(title_embeddings).squeeze()\n",
    "        title_features = torch.cat([title_features1,title_features2,],dim=1)\n",
    "\n",
    "        description_embeddings = self.embedder(batch['FullDescription']).permute(0, 2, 1)\n",
    "        description_features1 = self.conv1(title_embeddings).squeeze()\n",
    "        description_features2 = self.conv2(title_embeddings).squeeze()\n",
    "        \n",
    "        description_features = torch.cat([description_features1,description_features2,],dim=1)\n",
    "        categorical_features = self.categorical_encoder(batch['Categorical'])\n",
    "\n",
    "        features = torch.cat(\n",
    "            [title_features, description_features, categorical_features], dim=1)\n",
    "        \n",
    "        return self.final_predictor(features).squeeze()"
   ]
  },
  {
   "cell_type": "code",
   "execution_count": 32,
   "metadata": {},
   "outputs": [],
   "source": [
    "m1 = SalaryPredictor1()\n",
    "m1=m1.to(DEVICE)"
   ]
  },
  {
   "cell_type": "code",
   "execution_count": 33,
   "metadata": {
    "scrolled": false
   },
   "outputs": [
    {
     "name": "stdout",
     "output_type": "stream",
     "text": [
      "epoch: 1\n"
     ]
    },
    {
     "data": {
      "application/vnd.jupyter.widget-view+json": {
       "model_id": "e93892aebab9464891ec833f64943c93",
       "version_major": 2,
       "version_minor": 0
      },
      "text/plain": [
       "  0%|          | 0/1721 [00:00<?, ?it/s]"
      ]
     },
     "metadata": {},
     "output_type": "display_data"
    },
    {
     "name": "stdout",
     "output_type": "stream",
     "text": [
      "train_loss 5.956198692321777\n",
      "val results:\n",
      "Mean square error: 1.56831\n",
      "Mean absolute error: 0.48936\n",
      "train_loss 2.59907603263855\n",
      "val results:\n",
      "Mean square error: 0.58899\n",
      "Mean absolute error: 0.29679\n",
      "train_loss 1.955595850944519\n",
      "val results:\n",
      "Mean square error: 0.38130\n",
      "Mean absolute error: 0.24521\n",
      "train_loss 0.9957832098007202\n",
      "val results:\n",
      "Mean square error: 0.29406\n",
      "Mean absolute error: 0.22035\n",
      "train_loss 0.8632099628448486\n",
      "val results:\n",
      "Mean square error: 0.12624\n",
      "Mean absolute error: 0.13855\n",
      "train_loss 0.5137854814529419\n",
      "val results:\n",
      "Mean square error: 0.15203\n",
      "Mean absolute error: 0.15751\n",
      "train_loss 0.3133937120437622\n",
      "val results:\n",
      "Mean square error: 0.10004\n",
      "Mean absolute error: 0.12541\n",
      "train_loss 0.2590220272541046\n",
      "val results:\n",
      "Mean square error: 0.08630\n",
      "Mean absolute error: 0.11653\n",
      "train_loss 0.22664397954940796\n",
      "val results:\n",
      "Mean square error: 0.07291\n",
      "Mean absolute error: 0.10671\n",
      "train_loss 0.21168264746665955\n",
      "val results:\n",
      "Mean square error: 0.07615\n",
      "Mean absolute error: 0.11038\n",
      "train_loss 0.16147246956825256\n",
      "val results:\n",
      "Mean square error: 0.07157\n",
      "Mean absolute error: 0.10708\n",
      "train_loss 0.24517729878425598\n",
      "val results:\n",
      "Mean square error: 0.05804\n",
      "Mean absolute error: 0.09467\n",
      "train_loss 0.19340075552463531\n",
      "val results:\n",
      "Mean square error: 0.05025\n",
      "Mean absolute error: 0.08730\n",
      "train_loss 0.15572407841682434\n",
      "val results:\n",
      "Mean square error: 0.05175\n",
      "Mean absolute error: 0.08897\n",
      "train_loss 0.19691675901412964\n",
      "val results:\n",
      "Mean square error: 0.04966\n",
      "Mean absolute error: 0.08706\n",
      "train_loss 0.19095279276371002\n",
      "val results:\n",
      "Mean square error: 0.05562\n",
      "Mean absolute error: 0.09301\n",
      "train_loss 0.16302455961704254\n",
      "val results:\n",
      "Mean square error: 0.04920\n",
      "Mean absolute error: 0.08645\n",
      "epoch: 2\n"
     ]
    },
    {
     "data": {
      "application/vnd.jupyter.widget-view+json": {
       "model_id": "7380aa23216d4dc1aba2349f26a21bcf",
       "version_major": 2,
       "version_minor": 0
      },
      "text/plain": [
       "  0%|          | 0/1721 [00:00<?, ?it/s]"
      ]
     },
     "metadata": {},
     "output_type": "display_data"
    },
    {
     "name": "stdout",
     "output_type": "stream",
     "text": [
      "train_loss 0.18069538474082947\n",
      "val results:\n",
      "Mean square error: 0.05218\n",
      "Mean absolute error: 0.08967\n",
      "train_loss 0.17195425927639008\n",
      "val results:\n",
      "Mean square error: 0.04702\n",
      "Mean absolute error: 0.08459\n",
      "train_loss 0.16244010627269745\n",
      "val results:\n",
      "Mean square error: 0.04905\n",
      "Mean absolute error: 0.08663\n",
      "train_loss 0.1450534611940384\n",
      "val results:\n",
      "Mean square error: 0.05006\n",
      "Mean absolute error: 0.08783\n",
      "train_loss 0.15215575695037842\n",
      "val results:\n",
      "Mean square error: 0.04216\n",
      "Mean absolute error: 0.07963\n",
      "train_loss 0.16155114769935608\n",
      "val results:\n",
      "Mean square error: 0.04638\n",
      "Mean absolute error: 0.08421\n",
      "train_loss 0.15314199030399323\n",
      "val results:\n",
      "Mean square error: 0.04510\n",
      "Mean absolute error: 0.08270\n",
      "train_loss 0.14571082592010498\n",
      "val results:\n",
      "Mean square error: 0.04679\n",
      "Mean absolute error: 0.08443\n",
      "train_loss 0.14974141120910645\n",
      "val results:\n",
      "Mean square error: 0.04457\n",
      "Mean absolute error: 0.08216\n",
      "train_loss 0.1518276333808899\n",
      "val results:\n",
      "Mean square error: 0.04430\n",
      "Mean absolute error: 0.08204\n",
      "train_loss 0.13192510604858398\n",
      "val results:\n",
      "Mean square error: 0.04255\n",
      "Mean absolute error: 0.08020\n",
      "train_loss 0.14386311173439026\n",
      "val results:\n",
      "Mean square error: 0.04297\n",
      "Mean absolute error: 0.08073\n",
      "train_loss 0.16786953806877136\n",
      "val results:\n",
      "Mean square error: 0.03919\n",
      "Mean absolute error: 0.07667\n",
      "train_loss 0.13094450533390045\n",
      "val results:\n",
      "Mean square error: 0.04103\n",
      "Mean absolute error: 0.07855\n",
      "train_loss 0.1184057742357254\n",
      "val results:\n",
      "Mean square error: 0.04279\n",
      "Mean absolute error: 0.08036\n",
      "train_loss 0.1665191948413849\n",
      "val results:\n",
      "Mean square error: 0.03860\n",
      "Mean absolute error: 0.07596\n",
      "train_loss 0.14918124675750732\n",
      "val results:\n",
      "Mean square error: 0.04409\n",
      "Mean absolute error: 0.08168\n",
      "epoch: 3\n"
     ]
    },
    {
     "data": {
      "application/vnd.jupyter.widget-view+json": {
       "model_id": "408f6e2dd54647f1998456e3a4d1b808",
       "version_major": 2,
       "version_minor": 0
      },
      "text/plain": [
       "  0%|          | 0/1721 [00:00<?, ?it/s]"
      ]
     },
     "metadata": {},
     "output_type": "display_data"
    },
    {
     "name": "stdout",
     "output_type": "stream",
     "text": [
      "train_loss 0.17397549748420715\n",
      "val results:\n",
      "Mean square error: 0.04267\n",
      "Mean absolute error: 0.08023\n",
      "train_loss 0.14201241731643677\n",
      "val results:\n",
      "Mean square error: 0.03866\n",
      "Mean absolute error: 0.07591\n",
      "train_loss 0.152351975440979\n",
      "val results:\n",
      "Mean square error: 0.04035\n",
      "Mean absolute error: 0.07763\n",
      "train_loss 0.13287386298179626\n",
      "val results:\n",
      "Mean square error: 0.03788\n",
      "Mean absolute error: 0.07513\n",
      "train_loss 0.1466078907251358\n",
      "val results:\n",
      "Mean square error: 0.03721\n",
      "Mean absolute error: 0.07437\n",
      "train_loss 0.11641825735569\n",
      "val results:\n",
      "Mean square error: 0.04074\n",
      "Mean absolute error: 0.07822\n",
      "train_loss 0.14089329540729523\n",
      "val results:\n",
      "Mean square error: 0.04071\n",
      "Mean absolute error: 0.07829\n",
      "train_loss 0.13403180241584778\n",
      "val results:\n",
      "Mean square error: 0.03805\n",
      "Mean absolute error: 0.07543\n",
      "train_loss 0.14287018775939941\n",
      "val results:\n",
      "Mean square error: 0.04488\n",
      "Mean absolute error: 0.08290\n",
      "train_loss 0.19245672225952148\n",
      "val results:\n",
      "Mean square error: 0.03678\n",
      "Mean absolute error: 0.07403\n",
      "train_loss 0.12508687376976013\n",
      "val results:\n",
      "Mean square error: 0.03844\n",
      "Mean absolute error: 0.07587\n",
      "train_loss 0.17683403193950653\n",
      "val results:\n",
      "Mean square error: 0.03671\n",
      "Mean absolute error: 0.07389\n",
      "train_loss 0.1471637785434723\n",
      "val results:\n",
      "Mean square error: 0.04262\n",
      "Mean absolute error: 0.08083\n",
      "train_loss 0.15897488594055176\n",
      "val results:\n",
      "Mean square error: 0.04019\n",
      "Mean absolute error: 0.07790\n",
      "train_loss 0.15091250836849213\n",
      "val results:\n",
      "Mean square error: 0.03919\n",
      "Mean absolute error: 0.07669\n",
      "train_loss 0.1373533010482788\n",
      "val results:\n",
      "Mean square error: 0.04031\n",
      "Mean absolute error: 0.07806\n",
      "train_loss 0.11682067066431046\n",
      "val results:\n",
      "Mean square error: 0.04132\n",
      "Mean absolute error: 0.07921\n"
     ]
    },
    {
     "data": {
      "image/png": "[encoded data removed]",
      "text/plain": [
       "<Figure size 432x288 with 1 Axes>"
      ]
     },
     "metadata": {
      "needs_background": "light"
     },
     "output_type": "display_data"
    }
   ],
   "source": [
    "train_model(m1)"
   ]
  },
  {
   "cell_type": "markdown",
   "metadata": {},
   "source": [
    "# 2. Pooling слои стандартные (1 балла)\n",
    "\n",
    "*   Опишите своими словами как работает Pooling слой.\n",
    "*   Взять максимум по временной компоненте (незавимисо для каждой фичи)\n",
    "*   Взять среднее по временной компоненте (исключая PAD символы)\n",
    "\n",
    "Применять можно к любой архитектуре (CNN/RNN)"
   ]
  },
  {
   "cell_type": "code",
   "execution_count": 34,
   "metadata": {},
   "outputs": [],
   "source": [
    "class SalaryPredictorPooling(nn.Module):\n",
    "    def __init__(self, PoolLayer, n_tokens=len(tokens), n_cat_features=len(categorical_vectorizer.vocabulary_), hid_size=8):\n",
    "        super().__init__()\n",
    "        self.embedder = nn.Embedding(n_tokens, hid_size)\n",
    "        self.title_encoder = nn.Sequential(\n",
    "            nn.Conv1d(hid_size, hid_size, kernel_size=2),\n",
    "            nn.Dropout(p=0.25),\n",
    "            nn.ReLU(),\n",
    "        )\n",
    "        \n",
    "        self.description_encoder = nn.Sequential(\n",
    "            nn.Conv1d(hid_size, hid_size, kernel_size=2),\n",
    "            nn.Dropout(p=0.25),\n",
    "            nn.ReLU(),\n",
    "        )\n",
    "        \n",
    "        self.pooling_1 = PoolLayer(output_size=hid_size)\n",
    "        self.pooling_2 = PoolLayer(output_size=hid_size)\n",
    "        \n",
    "        self.categorical_encoder = nn.Sequential(\n",
    "            nn.Linear(n_cat_features, hid_size * 2),\n",
    "            nn.ReLU(),\n",
    "            nn.Linear(hid_size * 2, hid_size * 2),\n",
    "            nn.ReLU()\n",
    "        )\n",
    "        self.final_predictor = nn.Sequential(\n",
    "            nn.LazyLinear(hid_size),\n",
    "            nn.ReLU(),\n",
    "            nn.Linear(hid_size, 1)\n",
    "        )\n",
    "\n",
    "        \n",
    "    def forward(self, batch):\n",
    "        \n",
    "        title_embeddings = self.embedder(batch['Title']).permute(0, 2, 1)\n",
    "        title_features = self.title_encoder(title_embeddings)\n",
    "        title_features = self.pooling_1(title_features)\n",
    "        \n",
    "        description_embeddings = self.embedder(batch['FullDescription']).permute(0, 2, 1)\n",
    "        description_features = self.description_encoder(description_embeddings)\n",
    "        description_features = self.pooling_2(description_features)\n",
    "        \n",
    "        categorical_features = self.categorical_encoder(batch['Categorical'])\n",
    "        \n",
    "        title_features = torch.flatten(title_features, start_dim=1)\n",
    "        \n",
    "        description_features = torch.flatten(description_features, start_dim=1)\n",
    "        \n",
    "        features = torch.cat([title_features, description_features, categorical_features], dim=1)\n",
    "        \n",
    "        return self.final_predictor(features).squeeze()"
   ]
  },
  {
   "cell_type": "code",
   "execution_count": 35,
   "metadata": {},
   "outputs": [],
   "source": [
    "avg_pooling = nn.AdaptiveAvgPool1d\n",
    "max_pooling = nn.AdaptiveMaxPool1d\n",
    "\n",
    "m2 = SalaryPredictorPooling(avg_pooling)\n",
    "m2 = m2.to(DEVICE)\n",
    "\n",
    "m3 = SalaryPredictorPooling(max_pooling)\n",
    "m3 = m3.to(DEVICE)"
   ]
  },
  {
   "cell_type": "code",
   "execution_count": 36,
   "metadata": {
    "scrolled": false
   },
   "outputs": [
    {
     "name": "stdout",
     "output_type": "stream",
     "text": [
      "epoch: 1\n"
     ]
    },
    {
     "data": {
      "application/vnd.jupyter.widget-view+json": {
       "model_id": "8d4d00fba70f4ec8b867fb24b06d8bc3",
       "version_major": 2,
       "version_minor": 0
      },
      "text/plain": [
       "  0%|          | 0/1721 [00:00<?, ?it/s]"
      ]
     },
     "metadata": {},
     "output_type": "display_data"
    },
    {
     "name": "stdout",
     "output_type": "stream",
     "text": [
      "train_loss 1.939393162727356\n",
      "val results:\n",
      "Mean square error: 0.39359\n",
      "Mean absolute error: 0.25271\n",
      "train_loss 0.8125791549682617\n",
      "val results:\n",
      "Mean square error: 0.14260\n",
      "Mean absolute error: 0.14901\n",
      "train_loss 0.3622407913208008\n",
      "val results:\n",
      "Mean square error: 0.06573\n",
      "Mean absolute error: 0.10200\n",
      "train_loss 0.4287537932395935\n",
      "val results:\n",
      "Mean square error: 0.05317\n",
      "Mean absolute error: 0.09102\n",
      "train_loss 0.33881255984306335\n",
      "val results:\n",
      "Mean square error: 0.04787\n",
      "Mean absolute error: 0.08631\n",
      "train_loss 0.2765350341796875\n",
      "val results:\n",
      "Mean square error: 0.04410\n",
      "Mean absolute error: 0.08189\n",
      "train_loss 0.24221104383468628\n",
      "val results:\n",
      "Mean square error: 0.04107\n",
      "Mean absolute error: 0.07901\n",
      "train_loss 0.19228950142860413\n",
      "val results:\n",
      "Mean square error: 0.03923\n",
      "Mean absolute error: 0.07707\n",
      "train_loss 0.25493839383125305\n",
      "val results:\n",
      "Mean square error: 0.03771\n",
      "Mean absolute error: 0.07524\n",
      "train_loss 0.23749908804893494\n",
      "val results:\n",
      "Mean square error: 0.03701\n",
      "Mean absolute error: 0.07462\n",
      "train_loss 0.22249402105808258\n",
      "val results:\n",
      "Mean square error: 0.03568\n",
      "Mean absolute error: 0.07300\n",
      "train_loss 0.18200135231018066\n",
      "val results:\n",
      "Mean square error: 0.03709\n",
      "Mean absolute error: 0.07522\n",
      "train_loss 0.20723773539066315\n",
      "val results:\n",
      "Mean square error: 0.03540\n",
      "Mean absolute error: 0.07306\n",
      "train_loss 0.2135794311761856\n",
      "val results:\n",
      "Mean square error: 0.03383\n",
      "Mean absolute error: 0.07106\n",
      "train_loss 0.18511518836021423\n",
      "val results:\n",
      "Mean square error: 0.03312\n",
      "Mean absolute error: 0.07008\n",
      "train_loss 0.15362244844436646\n",
      "val results:\n",
      "Mean square error: 0.03333\n",
      "Mean absolute error: 0.07061\n",
      "train_loss 0.1711580455303192\n",
      "val results:\n",
      "Mean square error: 0.03307\n",
      "Mean absolute error: 0.06977\n",
      "epoch: 2\n"
     ]
    },
    {
     "data": {
      "application/vnd.jupyter.widget-view+json": {
       "model_id": "68851f0baff744c98b81e508baef776f",
       "version_major": 2,
       "version_minor": 0
      },
      "text/plain": [
       "  0%|          | 0/1721 [00:00<?, ?it/s]"
      ]
     },
     "metadata": {},
     "output_type": "display_data"
    },
    {
     "name": "stdout",
     "output_type": "stream",
     "text": [
      "train_loss 0.1414809674024582\n",
      "val results:\n",
      "Mean square error: 0.03201\n",
      "Mean absolute error: 0.06892\n",
      "train_loss 0.1302223652601242\n",
      "val results:\n",
      "Mean square error: 0.03156\n",
      "Mean absolute error: 0.06820\n",
      "train_loss 0.16130799055099487\n",
      "val results:\n",
      "Mean square error: 0.03146\n",
      "Mean absolute error: 0.06828\n",
      "train_loss 0.1336037516593933\n",
      "val results:\n",
      "Mean square error: 0.03093\n",
      "Mean absolute error: 0.06727\n",
      "train_loss 0.1735951006412506\n",
      "val results:\n",
      "Mean square error: 0.03052\n",
      "Mean absolute error: 0.06684\n",
      "train_loss 0.11591079831123352\n",
      "val results:\n",
      "Mean square error: 0.03030\n",
      "Mean absolute error: 0.06679\n",
      "train_loss 0.13873955607414246\n",
      "val results:\n",
      "Mean square error: 0.02961\n",
      "Mean absolute error: 0.06592\n",
      "train_loss 0.12380620837211609\n",
      "val results:\n",
      "Mean square error: 0.02957\n",
      "Mean absolute error: 0.06569\n",
      "train_loss 0.14184562861919403\n",
      "val results:\n",
      "Mean square error: 0.02921\n",
      "Mean absolute error: 0.06516\n",
      "train_loss 0.09832164645195007\n",
      "val results:\n",
      "Mean square error: 0.02866\n",
      "Mean absolute error: 0.06466\n",
      "train_loss 0.12544357776641846\n",
      "val results:\n",
      "Mean square error: 0.02823\n",
      "Mean absolute error: 0.06422\n",
      "train_loss 0.11076779663562775\n",
      "val results:\n",
      "Mean square error: 0.02795\n",
      "Mean absolute error: 0.06379\n",
      "train_loss 0.1919085681438446\n",
      "val results:\n",
      "Mean square error: 0.02759\n",
      "Mean absolute error: 0.06332\n",
      "train_loss 0.2121952772140503\n",
      "val results:\n",
      "Mean square error: 0.02737\n",
      "Mean absolute error: 0.06299\n",
      "train_loss 0.13283444941043854\n",
      "val results:\n",
      "Mean square error: 0.02701\n",
      "Mean absolute error: 0.06255\n",
      "train_loss 0.09658882766962051\n",
      "val results:\n",
      "Mean square error: 0.02684\n",
      "Mean absolute error: 0.06219\n",
      "train_loss 0.10218045115470886\n",
      "val results:\n",
      "Mean square error: 0.02938\n",
      "Mean absolute error: 0.06626\n",
      "epoch: 3\n"
     ]
    },
    {
     "data": {
      "application/vnd.jupyter.widget-view+json": {
       "model_id": "565ac85967504639bab067568e4e0a42",
       "version_major": 2,
       "version_minor": 0
      },
      "text/plain": [
       "  0%|          | 0/1721 [00:00<?, ?it/s]"
      ]
     },
     "metadata": {},
     "output_type": "display_data"
    },
    {
     "name": "stdout",
     "output_type": "stream",
     "text": [
      "train_loss 0.12888410687446594\n",
      "val results:\n",
      "Mean square error: 0.02629\n",
      "Mean absolute error: 0.06159\n",
      "train_loss 0.11046329140663147\n",
      "val results:\n",
      "Mean square error: 0.02619\n",
      "Mean absolute error: 0.06133\n",
      "train_loss 0.1315738558769226\n",
      "val results:\n",
      "Mean square error: 0.02573\n",
      "Mean absolute error: 0.06067\n",
      "train_loss 0.1656622290611267\n",
      "val results:\n",
      "Mean square error: 0.02562\n",
      "Mean absolute error: 0.06057\n",
      "train_loss 0.1147126778960228\n",
      "val results:\n",
      "Mean square error: 0.02520\n",
      "Mean absolute error: 0.05999\n",
      "train_loss 0.1192646324634552\n",
      "val results:\n",
      "Mean square error: 0.02525\n",
      "Mean absolute error: 0.05998\n",
      "train_loss 0.08613840490579605\n",
      "val results:\n",
      "Mean square error: 0.02495\n",
      "Mean absolute error: 0.05983\n",
      "train_loss 0.0905856341123581\n",
      "val results:\n",
      "Mean square error: 0.02453\n",
      "Mean absolute error: 0.05912\n",
      "train_loss 0.11105553805828094\n",
      "val results:\n",
      "Mean square error: 0.02428\n",
      "Mean absolute error: 0.05886\n",
      "train_loss 0.07286839187145233\n",
      "val results:\n",
      "Mean square error: 0.02418\n",
      "Mean absolute error: 0.05881\n",
      "train_loss 0.10488777607679367\n",
      "val results:\n",
      "Mean square error: 0.02394\n",
      "Mean absolute error: 0.05841\n",
      "train_loss 0.11019334197044373\n",
      "val results:\n",
      "Mean square error: 0.02447\n",
      "Mean absolute error: 0.05942\n",
      "train_loss 0.07378934323787689\n",
      "val results:\n",
      "Mean square error: 0.02375\n",
      "Mean absolute error: 0.05803\n",
      "train_loss 0.09901677072048187\n",
      "val results:\n",
      "Mean square error: 0.02500\n",
      "Mean absolute error: 0.05974\n",
      "train_loss 0.09913337230682373\n",
      "val results:\n",
      "Mean square error: 0.02381\n",
      "Mean absolute error: 0.05851\n",
      "train_loss 0.07432232797145844\n",
      "val results:\n",
      "Mean square error: 0.02298\n",
      "Mean absolute error: 0.05719\n",
      "train_loss 0.0887017548084259\n",
      "val results:\n",
      "Mean square error: 0.02330\n",
      "Mean absolute error: 0.05752\n"
     ]
    },
    {
     "data": {
      "image/png": "[encoded data removed]",
      "text/plain": [
       "<Figure size 432x288 with 1 Axes>"
      ]
     },
     "metadata": {
      "needs_background": "light"
     },
     "output_type": "display_data"
    }
   ],
   "source": [
    "train_model(m2)"
   ]
  },
  {
   "cell_type": "code",
   "execution_count": 37,
   "metadata": {},
   "outputs": [
    {
     "name": "stdout",
     "output_type": "stream",
     "text": [
      "epoch: 1\n"
     ]
    },
    {
     "data": {
      "application/vnd.jupyter.widget-view+json": {
       "model_id": "c831187beefe42e99ed538c070eb1bf8",
       "version_major": 2,
       "version_minor": 0
      },
      "text/plain": [
       "  0%|          | 0/1721 [00:00<?, ?it/s]"
      ]
     },
     "metadata": {},
     "output_type": "display_data"
    },
    {
     "name": "stdout",
     "output_type": "stream",
     "text": [
      "train_loss 1.4434711933135986\n",
      "val results:\n",
      "Mean square error: 0.80099\n",
      "Mean absolute error: 0.40352\n",
      "train_loss 0.618132472038269\n",
      "val results:\n",
      "Mean square error: 1.24449\n",
      "Mean absolute error: 0.53535\n",
      "train_loss 0.33472275733947754\n",
      "val results:\n",
      "Mean square error: 1.22259\n",
      "Mean absolute error: 0.53606\n",
      "train_loss 0.33393752574920654\n",
      "val results:\n",
      "Mean square error: 1.11116\n",
      "Mean absolute error: 0.51230\n",
      "train_loss 0.22457829117774963\n",
      "val results:\n",
      "Mean square error: 1.17920\n",
      "Mean absolute error: 0.53044\n",
      "train_loss 0.20742878317832947\n",
      "val results:\n",
      "Mean square error: 1.08264\n",
      "Mean absolute error: 0.50827\n",
      "train_loss 0.21814079582691193\n",
      "val results:\n",
      "Mean square error: 1.19006\n",
      "Mean absolute error: 0.53467\n",
      "train_loss 0.23679453134536743\n",
      "val results:\n",
      "Mean square error: 1.13767\n",
      "Mean absolute error: 0.52274\n",
      "train_loss 0.2434891164302826\n",
      "val results:\n",
      "Mean square error: 1.09069\n",
      "Mean absolute error: 0.51174\n",
      "train_loss 0.20548699796199799\n",
      "val results:\n",
      "Mean square error: 1.17646\n",
      "Mean absolute error: 0.53261\n",
      "train_loss 0.1610645353794098\n",
      "val results:\n",
      "Mean square error: 1.16246\n",
      "Mean absolute error: 0.52954\n",
      "train_loss 0.19211800396442413\n",
      "val results:\n",
      "Mean square error: 1.18540\n",
      "Mean absolute error: 0.53516\n",
      "train_loss 0.23707884550094604\n",
      "val results:\n",
      "Mean square error: 1.12440\n",
      "Mean absolute error: 0.52095\n",
      "train_loss 0.1636553257703781\n",
      "val results:\n",
      "Mean square error: 1.28309\n",
      "Mean absolute error: 0.55792\n",
      "train_loss 0.176304429769516\n",
      "val results:\n",
      "Mean square error: 1.25712\n",
      "Mean absolute error: 0.55219\n",
      "train_loss 0.16560354828834534\n",
      "val results:\n",
      "Mean square error: 1.21999\n",
      "Mean absolute error: 0.54392\n",
      "train_loss 0.16199025511741638\n",
      "val results:\n",
      "Mean square error: 1.13129\n",
      "Mean absolute error: 0.52329\n",
      "epoch: 2\n"
     ]
    },
    {
     "data": {
      "application/vnd.jupyter.widget-view+json": {
       "model_id": "eb76f13ce7b44adc8e5ea0dbb34dcb76",
       "version_major": 2,
       "version_minor": 0
      },
      "text/plain": [
       "  0%|          | 0/1721 [00:00<?, ?it/s]"
      ]
     },
     "metadata": {},
     "output_type": "display_data"
    },
    {
     "name": "stdout",
     "output_type": "stream",
     "text": [
      "train_loss 0.13321807980537415\n",
      "val results:\n",
      "Mean square error: 1.18051\n",
      "Mean absolute error: 0.53501\n",
      "train_loss 0.14581391215324402\n",
      "val results:\n",
      "Mean square error: 1.19205\n",
      "Mean absolute error: 0.53782\n",
      "train_loss 0.19825990498065948\n",
      "val results:\n",
      "Mean square error: 1.19503\n",
      "Mean absolute error: 0.53869\n",
      "train_loss 0.1680474877357483\n",
      "val results:\n",
      "Mean square error: 1.09986\n",
      "Mean absolute error: 0.51624\n",
      "train_loss 0.16538280248641968\n",
      "val results:\n",
      "Mean square error: 1.12432\n",
      "Mean absolute error: 0.52223\n",
      "train_loss 0.12702003121376038\n",
      "val results:\n",
      "Mean square error: 1.07270\n",
      "Mean absolute error: 0.50980\n",
      "train_loss 0.1321275532245636\n",
      "val results:\n",
      "Mean square error: 1.22048\n",
      "Mean absolute error: 0.54497\n",
      "train_loss 0.10852229595184326\n",
      "val results:\n",
      "Mean square error: 1.18548\n",
      "Mean absolute error: 0.53694\n",
      "train_loss 0.15962281823158264\n",
      "val results:\n",
      "Mean square error: 1.19636\n",
      "Mean absolute error: 0.53956\n",
      "train_loss 0.14256349205970764\n",
      "val results:\n",
      "Mean square error: 1.08573\n",
      "Mean absolute error: 0.51338\n",
      "train_loss 0.11009852588176727\n",
      "val results:\n",
      "Mean square error: 1.25122\n",
      "Mean absolute error: 0.55228\n",
      "train_loss 0.1236933022737503\n",
      "val results:\n",
      "Mean square error: 1.16653\n",
      "Mean absolute error: 0.53282\n",
      "train_loss 0.11368892341852188\n",
      "val results:\n",
      "Mean square error: 1.13151\n",
      "Mean absolute error: 0.52464\n",
      "train_loss 0.11324942857027054\n",
      "val results:\n",
      "Mean square error: 1.07677\n",
      "Mean absolute error: 0.51149\n",
      "train_loss 0.12233100831508636\n",
      "val results:\n",
      "Mean square error: 1.24226\n",
      "Mean absolute error: 0.55054\n",
      "train_loss 0.14216163754463196\n",
      "val results:\n",
      "Mean square error: 1.22387\n",
      "Mean absolute error: 0.54640\n",
      "train_loss 0.11708556860685349\n",
      "val results:\n",
      "Mean square error: 1.17068\n",
      "Mean absolute error: 0.53415\n",
      "epoch: 3\n"
     ]
    },
    {
     "data": {
      "application/vnd.jupyter.widget-view+json": {
       "model_id": "724d7f4b90c748c0b8d0b57d68f5265c",
       "version_major": 2,
       "version_minor": 0
      },
      "text/plain": [
       "  0%|          | 0/1721 [00:00<?, ?it/s]"
      ]
     },
     "metadata": {},
     "output_type": "display_data"
    },
    {
     "name": "stdout",
     "output_type": "stream",
     "text": [
      "train_loss 0.10777472704648972\n",
      "val results:\n",
      "Mean square error: 1.19321\n",
      "Mean absolute error: 0.53947\n",
      "train_loss 0.10244672000408173\n",
      "val results:\n",
      "Mean square error: 1.14120\n",
      "Mean absolute error: 0.52734\n",
      "train_loss 0.095993272960186\n",
      "val results:\n",
      "Mean square error: 1.19017\n",
      "Mean absolute error: 0.53887\n",
      "train_loss 0.14405031502246857\n",
      "val results:\n",
      "Mean square error: 1.20438\n",
      "Mean absolute error: 0.54221\n",
      "train_loss 0.10565157234668732\n",
      "val results:\n",
      "Mean square error: 1.17161\n",
      "Mean absolute error: 0.53462\n",
      "train_loss 0.10256016254425049\n",
      "val results:\n",
      "Mean square error: 1.19331\n",
      "Mean absolute error: 0.53975\n",
      "train_loss 0.0805494487285614\n",
      "val results:\n",
      "Mean square error: 1.15302\n",
      "Mean absolute error: 0.53039\n",
      "train_loss 0.10233171284198761\n",
      "val results:\n",
      "Mean square error: 1.17858\n",
      "Mean absolute error: 0.53644\n",
      "train_loss 0.11965619027614594\n",
      "val results:\n",
      "Mean square error: 1.21587\n",
      "Mean absolute error: 0.54512\n",
      "train_loss 0.08513270318508148\n",
      "val results:\n",
      "Mean square error: 1.10424\n",
      "Mean absolute error: 0.51888\n",
      "train_loss 0.12845945358276367\n",
      "val results:\n",
      "Mean square error: 1.05199\n",
      "Mean absolute error: 0.50617\n",
      "train_loss 0.09264536201953888\n",
      "val results:\n",
      "Mean square error: 1.18100\n",
      "Mean absolute error: 0.53712\n",
      "train_loss 0.07988204807043076\n",
      "val results:\n",
      "Mean square error: 1.11956\n",
      "Mean absolute error: 0.52273\n",
      "train_loss 0.1515127271413803\n",
      "val results:\n",
      "Mean square error: 1.20394\n",
      "Mean absolute error: 0.54254\n",
      "train_loss 0.11653855443000793\n",
      "val results:\n",
      "Mean square error: 1.23528\n",
      "Mean absolute error: 0.54975\n",
      "train_loss 0.13613741099834442\n",
      "val results:\n",
      "Mean square error: 1.26067\n",
      "Mean absolute error: 0.55553\n",
      "train_loss 0.08960764855146408\n",
      "val results:\n",
      "Mean square error: 1.13006\n",
      "Mean absolute error: 0.52539\n"
     ]
    },
    {
     "data": {
      "image/png": "[encoded data removed]",
      "text/plain": [
       "<Figure size 432x288 with 1 Axes>"
      ]
     },
     "metadata": {
      "needs_background": "light"
     },
     "output_type": "display_data"
    }
   ],
   "source": [
    "train_model(m3)"
   ]
  },
  {
   "cell_type": "markdown",
   "metadata": {},
   "source": [
    "# 3. Используйте предобученные эмбеддинги (2 балла)\n",
    "\n",
    "*   Загрузите предобученные эмбеддинги с помощью gensim.downloader.load\n",
    "*   Используйте метод [from_pretrained](https://pytorch.org/docs/stable/generated/torch.nn.Embedding.html) слоя torch.nn.Embedding для инициализации эмбеддингов с помощью предобученных весов. Можете попбровать несколько типов предобученных эмбеддингов.\n",
    "*   Проведите эксперементы с обучаемыми/замороженными весами эмбеддингов.\n",
    "Используйте одни и те же эмбеддинги для Title и FullDescription.\n",
    "\n",
    "Сравните результаты:\n",
    "1.   Эмбеддингов, инициализируемых случайно из $$\\mathcal{N}(0,1)$$ (по умолчанию у слоя torch.nn.Embedding)\n",
    "2.   Предобученных эмбеддингов с замороженными весами\n",
    "3.   Предобученных эмбеддингов с обучаемыми весами\n",
    "\n",
    "Что изменяется в поведении модели? Какой эксперимент дал лучший результат?"
   ]
  },
  {
   "cell_type": "code",
   "execution_count": 38,
   "metadata": {},
   "outputs": [],
   "source": [
    "import gensim.downloader as loader\n",
    "\n",
    "def load_weights(title):\n",
    "    weights = loader.load(title)\n",
    "    weights = torch.FloatTensor(weights.vectors)\n",
    "    return weights\n",
    "    \n",
    "    "
   ]
  },
  {
   "cell_type": "code",
   "execution_count": 39,
   "metadata": {},
   "outputs": [],
   "source": [
    "title = \"glove-wiki-gigaword-50\"\n",
    "weights = load_weights(title)\n",
    "size = int(title.split(\"-\")[-1])\n",
    "\n",
    "# self.embedder = nn.Embedding.from_pretrained(weights)"
   ]
  },
  {
   "cell_type": "code",
   "execution_count": 40,
   "metadata": {},
   "outputs": [],
   "source": [
    "class SalaryPredictorE(nn.Module):\n",
    "    def __init__(self, weights, freeze, size, n_tokens=len(tokens), n_cat_features=len(categorical_vectorizer.vocabulary_), hid_size=8):\n",
    "        super().__init__()\n",
    "        \n",
    "        self.embedder = nn.Embedding.from_pretrained(weights)\n",
    "        \n",
    "        self.embedder.requires_grad_ = freeze\n",
    "        \n",
    "        self.title_encoder = nn.Sequential(\n",
    "            nn.Conv1d(size, hid_size, kernel_size=2),\n",
    "            nn.Dropout(p=0.25),\n",
    "            nn.ReLU(),\n",
    "            nn.AdaptiveMaxPool1d(output_size=1)\n",
    "        )\n",
    "        self.description_encoder = nn.Sequential(\n",
    "            nn.Conv1d(size, hid_size, kernel_size=2),\n",
    "            nn.Dropout(p=0.25),\n",
    "            nn.ReLU(),\n",
    "            nn.AdaptiveMaxPool1d(output_size=1)\n",
    "        )\n",
    "        self.categorical_encoder = nn.Sequential(\n",
    "            nn.Linear(n_cat_features, hid_size * 2),\n",
    "            nn.ReLU(),\n",
    "            nn.Linear(hid_size * 2, hid_size * 2),\n",
    "            nn.ReLU()\n",
    "        )\n",
    "        self.final_predictor = nn.Sequential(\n",
    "            nn.Linear(hid_size * 4, hid_size),\n",
    "            nn.ReLU(),\n",
    "            nn.Linear(hid_size, 1)\n",
    "        )\n",
    "        \n",
    "    def forward(self, batch):\n",
    "        title_embeddings = self.embedder(batch['Title']).permute(0, 2, 1)\n",
    "        title_features = self.title_encoder(title_embeddings).squeeze()\n",
    "        \n",
    "        description_embeddings = self.embedder(batch['FullDescription']).permute(0, 2, 1)\n",
    "        description_features = self.description_encoder(description_embeddings).squeeze()\n",
    "        \n",
    "        categorical_features = self.categorical_encoder(batch['Categorical'])\n",
    "        features = torch.cat([title_features, description_features, categorical_features], dim=1)\n",
    "        \n",
    "        return self.final_predictor(features).squeeze()"
   ]
  },
  {
   "cell_type": "code",
   "execution_count": 41,
   "metadata": {},
   "outputs": [],
   "source": [
    "m4 = SalaryPredictorE(weights=weights, freeze=True, size=size)\n",
    "m4 = m4.to(DEVICE)\n",
    "\n",
    "m5 = SalaryPredictorE(weights=weights, freeze=False, size=size)\n",
    "m5 = m5.to(DEVICE)"
   ]
  },
  {
   "cell_type": "code",
   "execution_count": 42,
   "metadata": {
    "scrolled": false
   },
   "outputs": [
    {
     "name": "stdout",
     "output_type": "stream",
     "text": [
      "epoch: 1\n"
     ]
    },
    {
     "data": {
      "application/vnd.jupyter.widget-view+json": {
       "model_id": "4996ec8fec57493a81aa23c423443a0e",
       "version_major": 2,
       "version_minor": 0
      },
      "text/plain": [
       "  0%|          | 0/1721 [00:00<?, ?it/s]"
      ]
     },
     "metadata": {},
     "output_type": "display_data"
    },
    {
     "name": "stdout",
     "output_type": "stream",
     "text": [
      "train_loss 0.7709019184112549\n",
      "val results:\n",
      "Mean square error: 0.82449\n",
      "Mean absolute error: 0.42660\n",
      "train_loss 0.44182655215263367\n",
      "val results:\n",
      "Mean square error: 1.35138\n",
      "Mean absolute error: 0.56420\n",
      "train_loss 0.30383288860321045\n",
      "val results:\n",
      "Mean square error: 1.33559\n",
      "Mean absolute error: 0.56284\n",
      "train_loss 0.32535603642463684\n",
      "val results:\n",
      "Mean square error: 1.27696\n",
      "Mean absolute error: 0.55120\n",
      "train_loss 0.2859098017215729\n",
      "val results:\n",
      "Mean square error: 1.27954\n",
      "Mean absolute error: 0.55309\n",
      "train_loss 0.21489092707633972\n",
      "val results:\n",
      "Mean square error: 1.24063\n",
      "Mean absolute error: 0.54524\n",
      "train_loss 0.3065643310546875\n",
      "val results:\n",
      "Mean square error: 1.23780\n",
      "Mean absolute error: 0.54522\n",
      "train_loss 0.3320041298866272\n",
      "val results:\n",
      "Mean square error: 1.19078\n",
      "Mean absolute error: 0.53485\n",
      "train_loss 0.20273101329803467\n",
      "val results:\n",
      "Mean square error: 1.18693\n",
      "Mean absolute error: 0.53430\n",
      "train_loss 0.17822939157485962\n",
      "val results:\n",
      "Mean square error: 1.14883\n",
      "Mean absolute error: 0.52573\n",
      "train_loss 0.2010141760110855\n",
      "val results:\n",
      "Mean square error: 1.14458\n",
      "Mean absolute error: 0.52503\n",
      "train_loss 0.18999001383781433\n",
      "val results:\n",
      "Mean square error: 1.16395\n",
      "Mean absolute error: 0.52982\n",
      "train_loss 0.15195153653621674\n",
      "val results:\n",
      "Mean square error: 1.12960\n",
      "Mean absolute error: 0.52184\n",
      "train_loss 0.2237173616886139\n",
      "val results:\n",
      "Mean square error: 1.06298\n",
      "Mean absolute error: 0.50577\n",
      "train_loss 0.17440380156040192\n",
      "val results:\n",
      "Mean square error: 1.03922\n",
      "Mean absolute error: 0.50000\n",
      "train_loss 0.1971336305141449\n",
      "val results:\n",
      "Mean square error: 1.11392\n",
      "Mean absolute error: 0.51849\n",
      "train_loss 0.17403358221054077\n",
      "val results:\n",
      "Mean square error: 1.04121\n",
      "Mean absolute error: 0.50074\n",
      "epoch: 2\n"
     ]
    },
    {
     "data": {
      "application/vnd.jupyter.widget-view+json": {
       "model_id": "6ea0580333a841fc91cdada4b684eb10",
       "version_major": 2,
       "version_minor": 0
      },
      "text/plain": [
       "  0%|          | 0/1721 [00:00<?, ?it/s]"
      ]
     },
     "metadata": {},
     "output_type": "display_data"
    },
    {
     "name": "stdout",
     "output_type": "stream",
     "text": [
      "train_loss 0.19770345091819763\n",
      "val results:\n",
      "Mean square error: 1.03247\n",
      "Mean absolute error: 0.49863\n",
      "train_loss 0.12440779060125351\n",
      "val results:\n",
      "Mean square error: 1.04584\n",
      "Mean absolute error: 0.50215\n",
      "train_loss 0.16640684008598328\n",
      "val results:\n",
      "Mean square error: 1.05059\n",
      "Mean absolute error: 0.50343\n",
      "train_loss 0.16178730130195618\n",
      "val results:\n",
      "Mean square error: 1.05226\n",
      "Mean absolute error: 0.50391\n",
      "train_loss 0.1692323088645935\n",
      "val results:\n",
      "Mean square error: 1.01676\n",
      "Mean absolute error: 0.49517\n",
      "train_loss 0.15611012279987335\n",
      "val results:\n",
      "Mean square error: 0.93734\n",
      "Mean absolute error: 0.47476\n",
      "train_loss 0.15123599767684937\n",
      "val results:\n",
      "Mean square error: 0.97937\n",
      "Mean absolute error: 0.48579\n",
      "train_loss 0.16652891039848328\n",
      "val results:\n",
      "Mean square error: 0.93888\n",
      "Mean absolute error: 0.47533\n",
      "train_loss 0.19017168879508972\n",
      "val results:\n",
      "Mean square error: 0.98000\n",
      "Mean absolute error: 0.48607\n",
      "train_loss 0.14933788776397705\n",
      "val results:\n",
      "Mean square error: 0.99484\n",
      "Mean absolute error: 0.48997\n",
      "train_loss 0.17416374385356903\n",
      "val results:\n",
      "Mean square error: 0.96265\n",
      "Mean absolute error: 0.48176\n",
      "train_loss 0.1802377998828888\n",
      "val results:\n",
      "Mean square error: 0.94502\n",
      "Mean absolute error: 0.47726\n",
      "train_loss 0.12711134552955627\n",
      "val results:\n",
      "Mean square error: 0.98674\n",
      "Mean absolute error: 0.48817\n",
      "train_loss 0.15698450803756714\n",
      "val results:\n",
      "Mean square error: 0.94070\n",
      "Mean absolute error: 0.47632\n",
      "train_loss 0.1187368780374527\n",
      "val results:\n",
      "Mean square error: 0.93487\n",
      "Mean absolute error: 0.47485\n",
      "train_loss 0.21196497976779938\n",
      "val results:\n",
      "Mean square error: 0.93756\n",
      "Mean absolute error: 0.47565\n",
      "train_loss 0.1486937701702118\n",
      "val results:\n",
      "Mean square error: 0.94374\n",
      "Mean absolute error: 0.47734\n",
      "epoch: 3\n"
     ]
    },
    {
     "data": {
      "application/vnd.jupyter.widget-view+json": {
       "model_id": "df090581cdab4ec898cb8aeaadeef5e4",
       "version_major": 2,
       "version_minor": 0
      },
      "text/plain": [
       "  0%|          | 0/1721 [00:00<?, ?it/s]"
      ]
     },
     "metadata": {},
     "output_type": "display_data"
    },
    {
     "name": "stdout",
     "output_type": "stream",
     "text": [
      "train_loss 0.1352011263370514\n",
      "val results:\n",
      "Mean square error: 0.88965\n",
      "Mean absolute error: 0.46288\n",
      "train_loss 0.1343534141778946\n",
      "val results:\n",
      "Mean square error: 0.86422\n",
      "Mean absolute error: 0.45612\n",
      "train_loss 0.11240138113498688\n",
      "val results:\n",
      "Mean square error: 0.85200\n",
      "Mean absolute error: 0.45283\n",
      "train_loss 0.13554641604423523\n",
      "val results:\n",
      "Mean square error: 0.88230\n",
      "Mean absolute error: 0.46116\n",
      "train_loss 0.11650313436985016\n",
      "val results:\n",
      "Mean square error: 0.84806\n",
      "Mean absolute error: 0.45185\n",
      "train_loss 0.11005214601755142\n",
      "val results:\n",
      "Mean square error: 0.84198\n",
      "Mean absolute error: 0.45021\n",
      "train_loss 0.160173237323761\n",
      "val results:\n",
      "Mean square error: 0.85531\n",
      "Mean absolute error: 0.45391\n",
      "train_loss 0.14272981882095337\n",
      "val results:\n",
      "Mean square error: 0.82400\n",
      "Mean absolute error: 0.44534\n",
      "train_loss 0.14350232481956482\n",
      "val results:\n",
      "Mean square error: 0.78960\n",
      "Mean absolute error: 0.43560\n",
      "train_loss 0.13522320985794067\n",
      "val results:\n",
      "Mean square error: 0.82927\n",
      "Mean absolute error: 0.44689\n",
      "train_loss 0.13114279508590698\n",
      "val results:\n",
      "Mean square error: 0.80440\n",
      "Mean absolute error: 0.43988\n",
      "train_loss 0.107060506939888\n",
      "val results:\n",
      "Mean square error: 0.77890\n",
      "Mean absolute error: 0.43261\n",
      "train_loss 0.10553686320781708\n",
      "val results:\n",
      "Mean square error: 0.84368\n",
      "Mean absolute error: 0.45100\n",
      "train_loss 0.12629471719264984\n",
      "val results:\n",
      "Mean square error: 0.81618\n",
      "Mean absolute error: 0.44336\n",
      "train_loss 0.13386547565460205\n",
      "val results:\n",
      "Mean square error: 0.78587\n",
      "Mean absolute error: 0.43477\n",
      "train_loss 0.18210509419441223\n",
      "val results:\n",
      "Mean square error: 0.82523\n",
      "Mean absolute error: 0.44595\n",
      "train_loss 0.123345747590065\n",
      "val results:\n",
      "Mean square error: 0.78597\n",
      "Mean absolute error: 0.43488\n"
     ]
    },
    {
     "data": {
      "image/png": "[encoded data removed]",
      "text/plain": [
       "<Figure size 432x288 with 1 Axes>"
      ]
     },
     "metadata": {
      "needs_background": "light"
     },
     "output_type": "display_data"
    }
   ],
   "source": [
    "train_model(m4)"
   ]
  },
  {
   "cell_type": "code",
   "execution_count": 43,
   "metadata": {
    "scrolled": false
   },
   "outputs": [
    {
     "name": "stdout",
     "output_type": "stream",
     "text": [
      "epoch: 1\n"
     ]
    },
    {
     "data": {
      "application/vnd.jupyter.widget-view+json": {
       "model_id": "99af5c0b51b345c694ebb0f497a824bc",
       "version_major": 2,
       "version_minor": 0
      },
      "text/plain": [
       "  0%|          | 0/1721 [00:00<?, ?it/s]"
      ]
     },
     "metadata": {},
     "output_type": "display_data"
    },
    {
     "name": "stdout",
     "output_type": "stream",
     "text": [
      "train_loss 23.926250457763672\n",
      "val results:\n",
      "Mean square error: 9.16073\n",
      "Mean absolute error: 1.50771\n",
      "train_loss 0.463827908039093\n",
      "val results:\n",
      "Mean square error: 1.43169\n",
      "Mean absolute error: 0.57975\n",
      "train_loss 0.37029290199279785\n",
      "val results:\n",
      "Mean square error: 1.37198\n",
      "Mean absolute error: 0.56900\n",
      "train_loss 0.2777215838432312\n",
      "val results:\n",
      "Mean square error: 1.31957\n",
      "Mean absolute error: 0.56003\n",
      "train_loss 0.40804219245910645\n",
      "val results:\n",
      "Mean square error: 1.26782\n",
      "Mean absolute error: 0.54968\n",
      "train_loss 0.38669848442077637\n",
      "val results:\n",
      "Mean square error: 1.19087\n",
      "Mean absolute error: 0.53328\n",
      "train_loss 0.27091729640960693\n",
      "val results:\n",
      "Mean square error: 1.13466\n",
      "Mean absolute error: 0.52067\n",
      "train_loss 0.19016900658607483\n",
      "val results:\n",
      "Mean square error: 1.14012\n",
      "Mean absolute error: 0.52286\n",
      "train_loss 0.15417230129241943\n",
      "val results:\n",
      "Mean square error: 1.12182\n",
      "Mean absolute error: 0.51888\n",
      "train_loss 0.1849655658006668\n",
      "val results:\n",
      "Mean square error: 1.15948\n",
      "Mean absolute error: 0.52861\n",
      "train_loss 0.19389429688453674\n",
      "val results:\n",
      "Mean square error: 1.11651\n",
      "Mean absolute error: 0.51827\n",
      "train_loss 0.17315664887428284\n",
      "val results:\n",
      "Mean square error: 1.10333\n",
      "Mean absolute error: 0.51520\n",
      "train_loss 0.2546318769454956\n",
      "val results:\n",
      "Mean square error: 1.10731\n",
      "Mean absolute error: 0.51669\n",
      "train_loss 0.1605600118637085\n",
      "val results:\n",
      "Mean square error: 1.09256\n",
      "Mean absolute error: 0.51292\n",
      "train_loss 0.1748642474412918\n",
      "val results:\n",
      "Mean square error: 1.08003\n",
      "Mean absolute error: 0.51041\n",
      "train_loss 0.14288747310638428\n",
      "val results:\n",
      "Mean square error: 1.07899\n",
      "Mean absolute error: 0.51015\n",
      "train_loss 0.19195449352264404\n",
      "val results:\n",
      "Mean square error: 1.07359\n",
      "Mean absolute error: 0.50877\n",
      "epoch: 2\n"
     ]
    },
    {
     "data": {
      "application/vnd.jupyter.widget-view+json": {
       "model_id": "b2897fa493844f06a6f8731de7d8dafb",
       "version_major": 2,
       "version_minor": 0
      },
      "text/plain": [
       "  0%|          | 0/1721 [00:00<?, ?it/s]"
      ]
     },
     "metadata": {},
     "output_type": "display_data"
    },
    {
     "name": "stdout",
     "output_type": "stream",
     "text": [
      "train_loss 0.1906311959028244\n",
      "val results:\n",
      "Mean square error: 1.02971\n",
      "Mean absolute error: 0.49809\n",
      "train_loss 0.13289567828178406\n",
      "val results:\n",
      "Mean square error: 1.07661\n",
      "Mean absolute error: 0.51003\n",
      "train_loss 0.15207326412200928\n",
      "val results:\n",
      "Mean square error: 1.05802\n",
      "Mean absolute error: 0.50559\n",
      "train_loss 0.17409038543701172\n",
      "val results:\n",
      "Mean square error: 0.99599\n",
      "Mean absolute error: 0.48950\n",
      "train_loss 0.14552614092826843\n",
      "val results:\n",
      "Mean square error: 1.02574\n",
      "Mean absolute error: 0.49763\n",
      "train_loss 0.17963583767414093\n",
      "val results:\n",
      "Mean square error: 0.98576\n",
      "Mean absolute error: 0.48726\n",
      "train_loss 0.14367404580116272\n",
      "val results:\n",
      "Mean square error: 1.02678\n",
      "Mean absolute error: 0.49801\n",
      "train_loss 0.10112597048282623\n",
      "val results:\n",
      "Mean square error: 1.04124\n",
      "Mean absolute error: 0.50177\n",
      "train_loss 0.15677037835121155\n",
      "val results:\n",
      "Mean square error: 1.00254\n",
      "Mean absolute error: 0.49195\n",
      "train_loss 0.13820254802703857\n",
      "val results:\n",
      "Mean square error: 0.99856\n",
      "Mean absolute error: 0.49110\n",
      "train_loss 0.15032514929771423\n",
      "val results:\n",
      "Mean square error: 0.97784\n",
      "Mean absolute error: 0.48575\n",
      "train_loss 0.13501544296741486\n",
      "val results:\n",
      "Mean square error: 0.99415\n",
      "Mean absolute error: 0.49000\n",
      "train_loss 0.1198911964893341\n",
      "val results:\n",
      "Mean square error: 0.98030\n",
      "Mean absolute error: 0.48669\n",
      "train_loss 0.12832199037075043\n",
      "val results:\n",
      "Mean square error: 0.99899\n",
      "Mean absolute error: 0.49147\n",
      "train_loss 0.13711106777191162\n",
      "val results:\n",
      "Mean square error: 0.93039\n",
      "Mean absolute error: 0.47338\n",
      "train_loss 0.12568730115890503\n",
      "val results:\n",
      "Mean square error: 1.00431\n",
      "Mean absolute error: 0.49302\n",
      "train_loss 0.13861039280891418\n",
      "val results:\n",
      "Mean square error: 0.97515\n",
      "Mean absolute error: 0.48560\n",
      "epoch: 3\n"
     ]
    },
    {
     "data": {
      "application/vnd.jupyter.widget-view+json": {
       "model_id": "2200b3515825434d938da92b45f866d4",
       "version_major": 2,
       "version_minor": 0
      },
      "text/plain": [
       "  0%|          | 0/1721 [00:00<?, ?it/s]"
      ]
     },
     "metadata": {},
     "output_type": "display_data"
    },
    {
     "name": "stdout",
     "output_type": "stream",
     "text": [
      "train_loss 0.09126049280166626\n",
      "val results:\n",
      "Mean square error: 0.95476\n",
      "Mean absolute error: 0.47988\n",
      "train_loss 0.16474246978759766\n",
      "val results:\n",
      "Mean square error: 0.97531\n",
      "Mean absolute error: 0.48596\n",
      "train_loss 0.11351057887077332\n",
      "val results:\n",
      "Mean square error: 0.93517\n",
      "Mean absolute error: 0.47495\n",
      "train_loss 0.11658701300621033\n",
      "val results:\n",
      "Mean square error: 0.93604\n",
      "Mean absolute error: 0.47520\n",
      "train_loss 0.12786465883255005\n",
      "val results:\n",
      "Mean square error: 0.93649\n",
      "Mean absolute error: 0.47585\n",
      "train_loss 0.11468106508255005\n",
      "val results:\n",
      "Mean square error: 0.98777\n",
      "Mean absolute error: 0.48894\n",
      "train_loss 0.11915779858827591\n",
      "val results:\n",
      "Mean square error: 0.94369\n",
      "Mean absolute error: 0.47750\n",
      "train_loss 0.10169631242752075\n",
      "val results:\n",
      "Mean square error: 0.96940\n",
      "Mean absolute error: 0.48461\n",
      "train_loss 0.15102772414684296\n",
      "val results:\n",
      "Mean square error: 0.93334\n",
      "Mean absolute error: 0.47461\n",
      "train_loss 0.15835249423980713\n",
      "val results:\n",
      "Mean square error: 0.91264\n",
      "Mean absolute error: 0.46958\n",
      "train_loss 0.12542244791984558\n",
      "val results:\n",
      "Mean square error: 0.95577\n",
      "Mean absolute error: 0.48105\n",
      "train_loss 0.10666920244693756\n",
      "val results:\n",
      "Mean square error: 0.96840\n",
      "Mean absolute error: 0.48449\n",
      "train_loss 0.10052910447120667\n",
      "val results:\n",
      "Mean square error: 0.97592\n",
      "Mean absolute error: 0.48615\n",
      "train_loss 0.10305045545101166\n",
      "val results:\n",
      "Mean square error: 0.98118\n",
      "Mean absolute error: 0.48785\n",
      "train_loss 0.11923901736736298\n",
      "val results:\n",
      "Mean square error: 0.91791\n",
      "Mean absolute error: 0.47101\n",
      "train_loss 0.15261870622634888\n",
      "val results:\n",
      "Mean square error: 0.88761\n",
      "Mean absolute error: 0.46293\n",
      "train_loss 0.11272837966680527\n",
      "val results:\n",
      "Mean square error: 0.97731\n",
      "Mean absolute error: 0.48694\n"
     ]
    },
    {
     "data": {
      "image/png": "[encoded data removed]",
      "text/plain": [
       "<Figure size 432x288 with 1 Axes>"
      ]
     },
     "metadata": {
      "needs_background": "light"
     },
     "output_type": "display_data"
    }
   ],
   "source": [
    "train_model(m5)"
   ]
  },
  {
   "cell_type": "markdown",
   "metadata": {},
   "source": [
    "# 4. Замените сверточные слои на рекуррентные (3 балла)\n",
    "\n",
    "* Замените сверточне слоим рекуррентными LSTM/GRU.\n",
    "* Проведите эксперимент с однонаправленной и двунаправленной рекуррентной нейросетью\n",
    "* Попробуйте найти удачный микс рекуррентных и сверточных слоев. Попробуйте разные миксы для Title и FullDescription"
   ]
  },
  {
   "cell_type": "code",
   "execution_count": 44,
   "metadata": {},
   "outputs": [],
   "source": [
    "class SalaryPredictorReccurent(nn.Module):\n",
    "    def __init__(self, ReccurentLayer, n_tokens=len(tokens), n_cat_features=len(categorical_vectorizer.vocabulary_), hid_size=8):\n",
    "        super().__init__()\n",
    "        self.embedder = nn.Embedding(n_tokens, hid_size)\n",
    "        \n",
    "        self.title_reccurent = nn.Sequential(nn.AdaptiveMaxPool1d(hid_size),\n",
    "            ReccurentLayer(hid_size, \n",
    "                                              hid_size, \n",
    "                                              num_layers=2, \n",
    "                                              bidirectional=True))\n",
    "        \n",
    "        self.description_reccurent = nn.Sequential(nn.AdaptiveMaxPool1d(hid_size),\n",
    "            ReccurentLayer(hid_size, \n",
    "                                              hid_size, \n",
    "                                              num_layers=2, \n",
    "                                              bidirectional=True))\n",
    "        \n",
    "        \n",
    "        self.title_encoder = nn.Sequential(\n",
    "            nn.Conv1d(hid_size, hid_size, kernel_size=2),\n",
    "            nn.Dropout(p=0.25),\n",
    "            nn.ReLU(),\n",
    "            nn.AdaptiveMaxPool1d(output_size=1)\n",
    "        )\n",
    "        self.description_encoder = nn.Sequential(\n",
    "            nn.Conv1d(hid_size, hid_size, kernel_size=2),\n",
    "            nn.Dropout(p=0.25),\n",
    "            nn.ReLU(),\n",
    "            nn.AdaptiveMaxPool1d(output_size=1)\n",
    "        )\n",
    "        self.categorical_encoder = nn.Sequential(\n",
    "            nn.Linear(n_cat_features, hid_size * 2),\n",
    "            nn.ReLU(),\n",
    "            nn.Linear(hid_size * 2, hid_size * 2),\n",
    "            nn.ReLU()\n",
    "        )\n",
    "        self.final_predictor = nn.Sequential(\n",
    "            nn.LazyLinear(hid_size),\n",
    "            nn.ReLU(),\n",
    "            nn.Linear(hid_size, 1)\n",
    "        )\n",
    "\n",
    "        \n",
    "    def forward(self, batch):\n",
    "\n",
    "        title_embeddings = self.embedder(batch['Title']).permute(0, 2, 1)\n",
    "        title_features = self.title_reccurent(title_embeddings)[0]\n",
    "        title_features = self.title_encoder(title_embeddings).squeeze()\n",
    "        \n",
    "        description_embeddings = self.embedder(batch['FullDescription']).permute(0, 2, 1)\n",
    "        description_features = self.description_reccurent(description_embeddings)[0]\n",
    "        description_features = self.description_encoder(description_embeddings).squeeze()\n",
    "\n",
    "        categorical_features = self.categorical_encoder(batch['Categorical'])\n",
    "\n",
    "        features = torch.cat(\n",
    "            [title_features, description_features, categorical_features], dim=1)\n",
    "        \n",
    "        return self.final_predictor(features).squeeze()"
   ]
  },
  {
   "cell_type": "code",
   "execution_count": 45,
   "metadata": {},
   "outputs": [],
   "source": [
    "rnn = nn.RNN\n",
    "\n",
    "lstm = nn.LSTM\n",
    "\n",
    "gru = nn.GRU\n",
    "\n",
    "m6 = SalaryPredictorReccurent(rnn)\n",
    "\n",
    "m7 = SalaryPredictorReccurent(lstm)\n",
    "\n",
    "m8 = SalaryPredictorReccurent(gru)\n",
    "\n",
    "m6 = m6.to(DEVICE)\n",
    "\n",
    "m7 = m7.to(DEVICE)\n",
    "\n",
    "m8 = m8.to(DEVICE)"
   ]
  },
  {
   "cell_type": "code",
   "execution_count": 46,
   "metadata": {
    "scrolled": false
   },
   "outputs": [
    {
     "name": "stdout",
     "output_type": "stream",
     "text": [
      "epoch: 1\n"
     ]
    },
    {
     "data": {
      "application/vnd.jupyter.widget-view+json": {
       "model_id": "23fd3d0c72d54b4d88eece39a75d4649",
       "version_major": 2,
       "version_minor": 0
      },
      "text/plain": [
       "  0%|          | 0/1721 [00:00<?, ?it/s]"
      ]
     },
     "metadata": {},
     "output_type": "display_data"
    },
    {
     "name": "stdout",
     "output_type": "stream",
     "text": [
      "train_loss 4.506007194519043\n",
      "val results:\n",
      "Mean square error: 3.28221\n",
      "Mean absolute error: 0.89421\n",
      "train_loss 0.4511946141719818\n",
      "val results:\n",
      "Mean square error: 1.17138\n",
      "Mean absolute error: 0.52118\n",
      "train_loss 0.381965696811676\n",
      "val results:\n",
      "Mean square error: 1.17161\n",
      "Mean absolute error: 0.52341\n",
      "train_loss 0.31006449460983276\n",
      "val results:\n",
      "Mean square error: 1.14192\n",
      "Mean absolute error: 0.51811\n",
      "train_loss 0.2449975609779358\n",
      "val results:\n",
      "Mean square error: 1.13383\n",
      "Mean absolute error: 0.51798\n",
      "train_loss 0.30646657943725586\n",
      "val results:\n",
      "Mean square error: 1.10069\n",
      "Mean absolute error: 0.51103\n",
      "train_loss 0.2965695858001709\n",
      "val results:\n",
      "Mean square error: 1.08410\n",
      "Mean absolute error: 0.50774\n",
      "train_loss 0.23951254785060883\n",
      "val results:\n",
      "Mean square error: 1.03187\n",
      "Mean absolute error: 0.49537\n",
      "train_loss 0.22679078578948975\n",
      "val results:\n",
      "Mean square error: 1.00214\n",
      "Mean absolute error: 0.48833\n",
      "train_loss 0.1988476812839508\n",
      "val results:\n",
      "Mean square error: 1.00558\n",
      "Mean absolute error: 0.48963\n",
      "train_loss 0.19530898332595825\n",
      "val results:\n",
      "Mean square error: 0.95516\n",
      "Mean absolute error: 0.47695\n",
      "train_loss 0.1913154274225235\n",
      "val results:\n",
      "Mean square error: 0.93992\n",
      "Mean absolute error: 0.47331\n",
      "train_loss 0.264651358127594\n",
      "val results:\n",
      "Mean square error: 0.93005\n",
      "Mean absolute error: 0.47096\n",
      "train_loss 0.1579088717699051\n",
      "val results:\n",
      "Mean square error: 0.89089\n",
      "Mean absolute error: 0.46077\n",
      "train_loss 0.20491839945316315\n",
      "val results:\n",
      "Mean square error: 0.85447\n",
      "Mean absolute error: 0.45103\n",
      "train_loss 0.21175408363342285\n",
      "val results:\n",
      "Mean square error: 0.83265\n",
      "Mean absolute error: 0.44517\n",
      "train_loss 0.17530721426010132\n",
      "val results:\n",
      "Mean square error: 0.83649\n",
      "Mean absolute error: 0.44646\n",
      "epoch: 2\n"
     ]
    },
    {
     "data": {
      "application/vnd.jupyter.widget-view+json": {
       "model_id": "e291803b9fff44a3980461995b737af5",
       "version_major": 2,
       "version_minor": 0
      },
      "text/plain": [
       "  0%|          | 0/1721 [00:00<?, ?it/s]"
      ]
     },
     "metadata": {},
     "output_type": "display_data"
    },
    {
     "name": "stdout",
     "output_type": "stream",
     "text": [
      "train_loss 0.1774623692035675\n",
      "val results:\n",
      "Mean square error: 0.76892\n",
      "Mean absolute error: 0.42728\n",
      "train_loss 0.12519752979278564\n",
      "val results:\n",
      "Mean square error: 0.75823\n",
      "Mean absolute error: 0.42437\n",
      "train_loss 0.13646848499774933\n",
      "val results:\n",
      "Mean square error: 0.76368\n",
      "Mean absolute error: 0.42613\n",
      "train_loss 0.20044739544391632\n",
      "val results:\n",
      "Mean square error: 0.74589\n",
      "Mean absolute error: 0.42107\n",
      "train_loss 0.12045328319072723\n",
      "val results:\n",
      "Mean square error: 0.72414\n",
      "Mean absolute error: 0.41475\n",
      "train_loss 0.1341804563999176\n",
      "val results:\n",
      "Mean square error: 0.68264\n",
      "Mean absolute error: 0.40222\n",
      "train_loss 0.18936535716056824\n",
      "val results:\n",
      "Mean square error: 0.69967\n",
      "Mean absolute error: 0.40769\n",
      "train_loss 0.11356647312641144\n",
      "val results:\n",
      "Mean square error: 0.67303\n",
      "Mean absolute error: 0.39958\n",
      "train_loss 0.13262416422367096\n",
      "val results:\n",
      "Mean square error: 0.67091\n",
      "Mean absolute error: 0.39907\n",
      "train_loss 0.10765774548053741\n",
      "val results:\n",
      "Mean square error: 0.65805\n",
      "Mean absolute error: 0.39513\n",
      "train_loss 0.12580233812332153\n",
      "val results:\n",
      "Mean square error: 0.64948\n",
      "Mean absolute error: 0.39251\n",
      "train_loss 0.1282172054052353\n",
      "val results:\n",
      "Mean square error: 0.59047\n",
      "Mean absolute error: 0.37341\n",
      "train_loss 0.11890752613544464\n",
      "val results:\n",
      "Mean square error: 0.59889\n",
      "Mean absolute error: 0.37637\n",
      "train_loss 0.17023338377475739\n",
      "val results:\n",
      "Mean square error: 0.53492\n",
      "Mean absolute error: 0.35460\n",
      "train_loss 0.13040538132190704\n",
      "val results:\n",
      "Mean square error: 0.54457\n",
      "Mean absolute error: 0.35813\n",
      "train_loss 0.14335834980010986\n",
      "val results:\n",
      "Mean square error: 0.55279\n",
      "Mean absolute error: 0.36105\n",
      "train_loss 0.1503589004278183\n",
      "val results:\n",
      "Mean square error: 0.53025\n",
      "Mean absolute error: 0.35326\n",
      "epoch: 3\n"
     ]
    },
    {
     "data": {
      "application/vnd.jupyter.widget-view+json": {
       "model_id": "a8f3f71d1b4540d789cc53c77770c9c5",
       "version_major": 2,
       "version_minor": 0
      },
      "text/plain": [
       "  0%|          | 0/1721 [00:00<?, ?it/s]"
      ]
     },
     "metadata": {},
     "output_type": "display_data"
    },
    {
     "name": "stdout",
     "output_type": "stream",
     "text": [
      "train_loss 0.13970382511615753\n",
      "val results:\n",
      "Mean square error: 0.53416\n",
      "Mean absolute error: 0.35482\n",
      "train_loss 0.11920646578073502\n",
      "val results:\n",
      "Mean square error: 0.50272\n",
      "Mean absolute error: 0.34365\n",
      "train_loss 0.12989525496959686\n",
      "val results:\n",
      "Mean square error: 0.55949\n",
      "Mean absolute error: 0.36375\n",
      "train_loss 0.11985136568546295\n",
      "val results:\n",
      "Mean square error: 0.47892\n",
      "Mean absolute error: 0.33506\n",
      "train_loss 0.11866767704486847\n",
      "val results:\n",
      "Mean square error: 0.48963\n",
      "Mean absolute error: 0.33912\n",
      "train_loss 0.12948906421661377\n",
      "val results:\n",
      "Mean square error: 0.41741\n",
      "Mean absolute error: 0.31156\n",
      "train_loss 0.1193416491150856\n",
      "val results:\n",
      "Mean square error: 0.48356\n",
      "Mean absolute error: 0.33706\n",
      "train_loss 0.16412019729614258\n",
      "val results:\n",
      "Mean square error: 0.42333\n",
      "Mean absolute error: 0.31398\n",
      "train_loss 0.11502313613891602\n",
      "val results:\n",
      "Mean square error: 0.43091\n",
      "Mean absolute error: 0.31708\n",
      "train_loss 0.1321728527545929\n",
      "val results:\n",
      "Mean square error: 0.44813\n",
      "Mean absolute error: 0.32394\n",
      "train_loss 0.15005043148994446\n",
      "val results:\n",
      "Mean square error: 0.40465\n",
      "Mean absolute error: 0.30675\n",
      "train_loss 0.12142006307840347\n",
      "val results:\n",
      "Mean square error: 0.38988\n",
      "Mean absolute error: 0.30081\n",
      "train_loss 0.13181659579277039\n",
      "val results:\n",
      "Mean square error: 0.39447\n",
      "Mean absolute error: 0.30278\n",
      "train_loss 0.1065351814031601\n",
      "val results:\n",
      "Mean square error: 0.37284\n",
      "Mean absolute error: 0.29379\n",
      "train_loss 0.1423557996749878\n",
      "val results:\n",
      "Mean square error: 0.40070\n",
      "Mean absolute error: 0.30553\n",
      "train_loss 0.09563156217336655\n",
      "val results:\n",
      "Mean square error: 0.36750\n",
      "Mean absolute error: 0.29170\n",
      "train_loss 0.11500700563192368\n",
      "val results:\n",
      "Mean square error: 0.38033\n",
      "Mean absolute error: 0.29717\n"
     ]
    },
    {
     "data": {
      "image/png": "[encoded data removed]",
      "text/plain": [
       "<Figure size 432x288 with 1 Axes>"
      ]
     },
     "metadata": {
      "needs_background": "light"
     },
     "output_type": "display_data"
    }
   ],
   "source": [
    "train_model(m6)"
   ]
  },
  {
   "cell_type": "code",
   "execution_count": 47,
   "metadata": {
    "scrolled": false
   },
   "outputs": [
    {
     "name": "stdout",
     "output_type": "stream",
     "text": [
      "epoch: 1\n"
     ]
    },
    {
     "data": {
      "application/vnd.jupyter.widget-view+json": {
       "model_id": "0d88a655264944ed868f68df706fc9b7",
       "version_major": 2,
       "version_minor": 0
      },
      "text/plain": [
       "  0%|          | 0/1721 [00:00<?, ?it/s]"
      ]
     },
     "metadata": {},
     "output_type": "display_data"
    },
    {
     "name": "stdout",
     "output_type": "stream",
     "text": [
      "train_loss 41.12651062011719\n",
      "val results:\n",
      "Mean square error: 12.06794\n",
      "Mean absolute error: 1.73250\n",
      "train_loss 0.5056960582733154\n",
      "val results:\n",
      "Mean square error: 0.66842\n",
      "Mean absolute error: 0.38256\n",
      "train_loss 0.35632890462875366\n",
      "val results:\n",
      "Mean square error: 0.63279\n",
      "Mean absolute error: 0.37416\n",
      "train_loss 0.3606700897216797\n",
      "val results:\n",
      "Mean square error: 0.59815\n",
      "Mean absolute error: 0.36623\n",
      "train_loss 0.2660018801689148\n",
      "val results:\n",
      "Mean square error: 0.57274\n",
      "Mean absolute error: 0.35960\n",
      "train_loss 0.22565165162086487\n",
      "val results:\n",
      "Mean square error: 0.58330\n",
      "Mean absolute error: 0.36439\n",
      "train_loss 0.2542216181755066\n",
      "val results:\n",
      "Mean square error: 0.57800\n",
      "Mean absolute error: 0.36346\n",
      "train_loss 0.26035889983177185\n",
      "val results:\n",
      "Mean square error: 0.56108\n",
      "Mean absolute error: 0.35837\n",
      "train_loss 0.24342608451843262\n",
      "val results:\n",
      "Mean square error: 0.56411\n",
      "Mean absolute error: 0.36003\n",
      "train_loss 0.23787041008472443\n",
      "val results:\n",
      "Mean square error: 0.56594\n",
      "Mean absolute error: 0.36111\n",
      "train_loss 0.18494859337806702\n",
      "val results:\n",
      "Mean square error: 0.53221\n",
      "Mean absolute error: 0.34978\n",
      "train_loss 0.1746681183576584\n",
      "val results:\n",
      "Mean square error: 0.53141\n",
      "Mean absolute error: 0.34986\n",
      "train_loss 0.22750180959701538\n",
      "val results:\n",
      "Mean square error: 0.51662\n",
      "Mean absolute error: 0.34491\n",
      "train_loss 0.23500469326972961\n",
      "val results:\n",
      "Mean square error: 0.51376\n",
      "Mean absolute error: 0.34416\n",
      "train_loss 0.18566270172595978\n",
      "val results:\n",
      "Mean square error: 0.47617\n",
      "Mean absolute error: 0.33051\n",
      "train_loss 0.1818522810935974\n",
      "val results:\n",
      "Mean square error: 0.50535\n",
      "Mean absolute error: 0.34161\n",
      "train_loss 0.16692513227462769\n",
      "val results:\n",
      "Mean square error: 0.48558\n",
      "Mean absolute error: 0.33448\n",
      "epoch: 2\n"
     ]
    },
    {
     "data": {
      "application/vnd.jupyter.widget-view+json": {
       "model_id": "8532616193a74eadace4e0ed30849222",
       "version_major": 2,
       "version_minor": 0
      },
      "text/plain": [
       "  0%|          | 0/1721 [00:00<?, ?it/s]"
      ]
     },
     "metadata": {},
     "output_type": "display_data"
    },
    {
     "name": "stdout",
     "output_type": "stream",
     "text": [
      "train_loss 0.17253538966178894\n",
      "val results:\n",
      "Mean square error: 0.45815\n",
      "Mean absolute error: 0.32442\n",
      "train_loss 0.1856745481491089\n",
      "val results:\n",
      "Mean square error: 0.45073\n",
      "Mean absolute error: 0.32173\n",
      "train_loss 0.17641308903694153\n",
      "val results:\n",
      "Mean square error: 0.44674\n",
      "Mean absolute error: 0.32037\n",
      "train_loss 0.17606353759765625\n",
      "val results:\n",
      "Mean square error: 0.43050\n",
      "Mean absolute error: 0.31413\n",
      "train_loss 0.2098221480846405\n",
      "val results:\n",
      "Mean square error: 0.45406\n",
      "Mean absolute error: 0.32349\n",
      "train_loss 0.19376729428768158\n",
      "val results:\n",
      "Mean square error: 0.43598\n",
      "Mean absolute error: 0.31661\n",
      "train_loss 0.1434989869594574\n",
      "val results:\n",
      "Mean square error: 0.42569\n",
      "Mean absolute error: 0.31268\n",
      "train_loss 0.16321107745170593\n",
      "val results:\n",
      "Mean square error: 0.40353\n",
      "Mean absolute error: 0.30387\n",
      "train_loss 0.17031648755073547\n",
      "val results:\n",
      "Mean square error: 0.38851\n",
      "Mean absolute error: 0.29786\n",
      "train_loss 0.16414546966552734\n",
      "val results:\n",
      "Mean square error: 0.40765\n",
      "Mean absolute error: 0.30589\n",
      "train_loss 0.12969565391540527\n",
      "val results:\n",
      "Mean square error: 0.38029\n",
      "Mean absolute error: 0.29461\n",
      "train_loss 0.21334496140480042\n",
      "val results:\n",
      "Mean square error: 0.37989\n",
      "Mean absolute error: 0.29455\n",
      "train_loss 0.19980072975158691\n",
      "val results:\n",
      "Mean square error: 0.37482\n",
      "Mean absolute error: 0.29259\n",
      "train_loss 0.12043296545743942\n",
      "val results:\n",
      "Mean square error: 0.38934\n",
      "Mean absolute error: 0.29882\n",
      "train_loss 0.1770043969154358\n",
      "val results:\n",
      "Mean square error: 0.37166\n",
      "Mean absolute error: 0.29150\n",
      "train_loss 0.12426280230283737\n",
      "val results:\n",
      "Mean square error: 0.35024\n",
      "Mean absolute error: 0.28229\n",
      "train_loss 0.14298218488693237\n",
      "val results:\n",
      "Mean square error: 0.34595\n",
      "Mean absolute error: 0.28049\n",
      "epoch: 3\n"
     ]
    },
    {
     "data": {
      "application/vnd.jupyter.widget-view+json": {
       "model_id": "f1ae5a6f789e4ebc87f3cac60d92443d",
       "version_major": 2,
       "version_minor": 0
      },
      "text/plain": [
       "  0%|          | 0/1721 [00:00<?, ?it/s]"
      ]
     },
     "metadata": {},
     "output_type": "display_data"
    },
    {
     "name": "stdout",
     "output_type": "stream",
     "text": [
      "train_loss 0.14174532890319824\n",
      "val results:\n",
      "Mean square error: 0.34649\n",
      "Mean absolute error: 0.28094\n",
      "train_loss 0.12305030971765518\n",
      "val results:\n",
      "Mean square error: 0.33265\n",
      "Mean absolute error: 0.27493\n",
      "train_loss 0.10041476786136627\n",
      "val results:\n",
      "Mean square error: 0.34028\n",
      "Mean absolute error: 0.27845\n",
      "train_loss 0.1296548843383789\n",
      "val results:\n",
      "Mean square error: 0.33910\n",
      "Mean absolute error: 0.27803\n",
      "train_loss 0.10094166547060013\n",
      "val results:\n",
      "Mean square error: 0.33030\n",
      "Mean absolute error: 0.27424\n",
      "train_loss 0.13351783156394958\n",
      "val results:\n",
      "Mean square error: 0.29171\n",
      "Mean absolute error: 0.25622\n",
      "train_loss 0.10194748640060425\n",
      "val results:\n",
      "Mean square error: 0.30567\n",
      "Mean absolute error: 0.26304\n",
      "train_loss 0.12500210106372833\n",
      "val results:\n",
      "Mean square error: 0.31035\n",
      "Mean absolute error: 0.26533\n",
      "train_loss 0.13569170236587524\n",
      "val results:\n",
      "Mean square error: 0.30337\n",
      "Mean absolute error: 0.26223\n",
      "train_loss 0.10860153287649155\n",
      "val results:\n",
      "Mean square error: 0.28843\n",
      "Mean absolute error: 0.25505\n",
      "train_loss 0.13425786793231964\n",
      "val results:\n",
      "Mean square error: 0.28601\n",
      "Mean absolute error: 0.25404\n",
      "train_loss 0.1170361191034317\n",
      "val results:\n",
      "Mean square error: 0.28242\n",
      "Mean absolute error: 0.25241\n",
      "train_loss 0.11251778900623322\n",
      "val results:\n",
      "Mean square error: 0.27368\n",
      "Mean absolute error: 0.24827\n",
      "train_loss 0.09446950256824493\n",
      "val results:\n",
      "Mean square error: 0.25928\n",
      "Mean absolute error: 0.24105\n",
      "train_loss 0.16180545091629028\n",
      "val results:\n",
      "Mean square error: 0.26760\n",
      "Mean absolute error: 0.24548\n",
      "train_loss 0.09520921111106873\n",
      "val results:\n",
      "Mean square error: 0.25245\n",
      "Mean absolute error: 0.23786\n",
      "train_loss 0.10778133571147919\n",
      "val results:\n",
      "Mean square error: 0.26115\n",
      "Mean absolute error: 0.24243\n"
     ]
    },
    {
     "data": {
      "image/png": "[encoded data removed]",
      "text/plain": [
       "<Figure size 432x288 with 1 Axes>"
      ]
     },
     "metadata": {
      "needs_background": "light"
     },
     "output_type": "display_data"
    }
   ],
   "source": [
    "train_model(m7)"
   ]
  },
  {
   "cell_type": "code",
   "execution_count": 48,
   "metadata": {
    "scrolled": false
   },
   "outputs": [
    {
     "name": "stdout",
     "output_type": "stream",
     "text": [
      "epoch: 1\n"
     ]
    },
    {
     "data": {
      "application/vnd.jupyter.widget-view+json": {
       "model_id": "ed78f72ed3824b409bba179280ff893f",
       "version_major": 2,
       "version_minor": 0
      },
      "text/plain": [
       "  0%|          | 0/1721 [00:00<?, ?it/s]"
      ]
     },
     "metadata": {},
     "output_type": "display_data"
    },
    {
     "name": "stdout",
     "output_type": "stream",
     "text": [
      "train_loss 7.6861162185668945\n",
      "val results:\n",
      "Mean square error: 3.73081\n",
      "Mean absolute error: 0.95059\n",
      "train_loss 0.6887085437774658\n",
      "val results:\n",
      "Mean square error: 0.87702\n",
      "Mean absolute error: 0.43692\n",
      "train_loss 0.5308180451393127\n",
      "val results:\n",
      "Mean square error: 0.84383\n",
      "Mean absolute error: 0.43423\n",
      "train_loss 0.4112987518310547\n",
      "val results:\n",
      "Mean square error: 0.82114\n",
      "Mean absolute error: 0.43223\n",
      "train_loss 0.323766827583313\n",
      "val results:\n",
      "Mean square error: 0.80636\n",
      "Mean absolute error: 0.43052\n",
      "train_loss 0.31998661160469055\n",
      "val results:\n",
      "Mean square error: 0.77290\n",
      "Mean absolute error: 0.42262\n",
      "train_loss 0.3540771007537842\n",
      "val results:\n",
      "Mean square error: 0.73311\n",
      "Mean absolute error: 0.41215\n",
      "train_loss 0.20004431903362274\n",
      "val results:\n",
      "Mean square error: 0.79514\n",
      "Mean absolute error: 0.43150\n",
      "train_loss 0.26178205013275146\n",
      "val results:\n",
      "Mean square error: 0.71310\n",
      "Mean absolute error: 0.40797\n",
      "train_loss 0.18151360750198364\n",
      "val results:\n",
      "Mean square error: 0.69795\n",
      "Mean absolute error: 0.40394\n",
      "train_loss 0.23590905964374542\n",
      "val results:\n",
      "Mean square error: 0.69429\n",
      "Mean absolute error: 0.40333\n",
      "train_loss 0.28734081983566284\n",
      "val results:\n",
      "Mean square error: 0.66730\n",
      "Mean absolute error: 0.39529\n",
      "train_loss 0.22930890321731567\n",
      "val results:\n",
      "Mean square error: 0.66518\n",
      "Mean absolute error: 0.39503\n",
      "train_loss 0.17784777283668518\n",
      "val results:\n",
      "Mean square error: 0.65037\n",
      "Mean absolute error: 0.39065\n",
      "train_loss 0.20544283092021942\n",
      "val results:\n",
      "Mean square error: 0.62289\n",
      "Mean absolute error: 0.38199\n",
      "train_loss 0.16095340251922607\n",
      "val results:\n",
      "Mean square error: 0.64468\n",
      "Mean absolute error: 0.38933\n",
      "train_loss 0.16088993847370148\n",
      "val results:\n",
      "Mean square error: 0.59491\n",
      "Mean absolute error: 0.37330\n",
      "epoch: 2\n"
     ]
    },
    {
     "data": {
      "application/vnd.jupyter.widget-view+json": {
       "model_id": "693c7717882641599517fbbd88bd8e03",
       "version_major": 2,
       "version_minor": 0
      },
      "text/plain": [
       "  0%|          | 0/1721 [00:00<?, ?it/s]"
      ]
     },
     "metadata": {},
     "output_type": "display_data"
    },
    {
     "name": "stdout",
     "output_type": "stream",
     "text": [
      "train_loss 0.17960044741630554\n",
      "val results:\n",
      "Mean square error: 0.60055\n",
      "Mean absolute error: 0.37543\n",
      "train_loss 0.20575085282325745\n",
      "val results:\n",
      "Mean square error: 0.58405\n",
      "Mean absolute error: 0.37008\n",
      "train_loss 0.125962495803833\n",
      "val results:\n",
      "Mean square error: 0.55864\n",
      "Mean absolute error: 0.36156\n",
      "train_loss 0.12541991472244263\n",
      "val results:\n",
      "Mean square error: 0.54117\n",
      "Mean absolute error: 0.35563\n",
      "train_loss 0.13535475730895996\n",
      "val results:\n",
      "Mean square error: 0.53510\n",
      "Mean absolute error: 0.35368\n",
      "train_loss 0.12551389634609222\n",
      "val results:\n",
      "Mean square error: 0.55662\n",
      "Mean absolute error: 0.36135\n",
      "train_loss 0.14128674566745758\n",
      "val results:\n",
      "Mean square error: 0.49902\n",
      "Mean absolute error: 0.34102\n",
      "train_loss 0.14238515496253967\n",
      "val results:\n",
      "Mean square error: 0.49526\n",
      "Mean absolute error: 0.33978\n",
      "train_loss 0.12466929852962494\n",
      "val results:\n",
      "Mean square error: 0.48693\n",
      "Mean absolute error: 0.33687\n",
      "train_loss 0.13855701684951782\n",
      "val results:\n",
      "Mean square error: 0.49384\n",
      "Mean absolute error: 0.33951\n",
      "train_loss 0.13953596353530884\n",
      "val results:\n",
      "Mean square error: 0.46148\n",
      "Mean absolute error: 0.32756\n",
      "train_loss 0.1252356469631195\n",
      "val results:\n",
      "Mean square error: 0.49153\n",
      "Mean absolute error: 0.33887\n",
      "train_loss 0.21469438076019287\n",
      "val results:\n",
      "Mean square error: 0.47136\n",
      "Mean absolute error: 0.33146\n",
      "train_loss 0.16094377636909485\n",
      "val results:\n",
      "Mean square error: 0.45717\n",
      "Mean absolute error: 0.32629\n",
      "train_loss 0.171624094247818\n",
      "val results:\n",
      "Mean square error: 0.43830\n",
      "Mean absolute error: 0.31909\n",
      "train_loss 0.12042094767093658\n",
      "val results:\n",
      "Mean square error: 0.41765\n",
      "Mean absolute error: 0.31109\n",
      "train_loss 0.11538684368133545\n",
      "val results:\n",
      "Mean square error: 0.39328\n",
      "Mean absolute error: 0.30118\n",
      "epoch: 3\n"
     ]
    },
    {
     "data": {
      "application/vnd.jupyter.widget-view+json": {
       "model_id": "4cb8fd08364b4682b3d0dafbfce28ced",
       "version_major": 2,
       "version_minor": 0
      },
      "text/plain": [
       "  0%|          | 0/1721 [00:00<?, ?it/s]"
      ]
     },
     "metadata": {},
     "output_type": "display_data"
    },
    {
     "name": "stdout",
     "output_type": "stream",
     "text": [
      "train_loss 0.10893993079662323\n",
      "val results:\n",
      "Mean square error: 0.40786\n",
      "Mean absolute error: 0.30727\n",
      "train_loss 0.12249764800071716\n",
      "val results:\n",
      "Mean square error: 0.40375\n",
      "Mean absolute error: 0.30567\n",
      "train_loss 0.10159613937139511\n",
      "val results:\n",
      "Mean square error: 0.40848\n",
      "Mean absolute error: 0.30774\n",
      "train_loss 0.12403831630945206\n",
      "val results:\n",
      "Mean square error: 0.38510\n",
      "Mean absolute error: 0.29818\n",
      "train_loss 0.10331544280052185\n",
      "val results:\n",
      "Mean square error: 0.36559\n",
      "Mean absolute error: 0.29001\n",
      "train_loss 0.14611993730068207\n",
      "val results:\n",
      "Mean square error: 0.36782\n",
      "Mean absolute error: 0.29098\n",
      "train_loss 0.11262522637844086\n",
      "val results:\n",
      "Mean square error: 0.33668\n",
      "Mean absolute error: 0.27749\n",
      "train_loss 0.13556008040905\n",
      "val results:\n",
      "Mean square error: 0.35474\n",
      "Mean absolute error: 0.28554\n",
      "train_loss 0.12938469648361206\n",
      "val results:\n",
      "Mean square error: 0.33096\n",
      "Mean absolute error: 0.27508\n",
      "train_loss 0.1380579024553299\n",
      "val results:\n",
      "Mean square error: 0.35853\n",
      "Mean absolute error: 0.28737\n",
      "train_loss 0.10571300983428955\n",
      "val results:\n",
      "Mean square error: 0.33956\n",
      "Mean absolute error: 0.27918\n",
      "train_loss 0.12859857082366943\n",
      "val results:\n",
      "Mean square error: 0.32862\n",
      "Mean absolute error: 0.27436\n",
      "train_loss 0.13581931591033936\n",
      "val results:\n",
      "Mean square error: 0.34655\n",
      "Mean absolute error: 0.28247\n",
      "train_loss 0.12769609689712524\n",
      "val results:\n",
      "Mean square error: 0.30782\n",
      "Mean absolute error: 0.26490\n",
      "train_loss 0.09798827022314072\n",
      "val results:\n",
      "Mean square error: 0.30484\n",
      "Mean absolute error: 0.26354\n",
      "train_loss 0.07838168740272522\n",
      "val results:\n",
      "Mean square error: 0.31933\n",
      "Mean absolute error: 0.27036\n",
      "train_loss 0.07874367386102676\n",
      "val results:\n",
      "Mean square error: 0.31010\n",
      "Mean absolute error: 0.26625\n"
     ]
    },
    {
     "data": {
      "image/png": "[encoded data removed]",
      "text/plain": [
       "<Figure size 432x288 with 1 Axes>"
      ]
     },
     "metadata": {
      "needs_background": "light"
     },
     "output_type": "display_data"
    }
   ],
   "source": [
    "train_model(m8)"
   ]
  },
  {
   "cell_type": "markdown",
   "metadata": {},
   "source": [
    "# 5. Вытащите признаки из нейронной сети и используйте их в ансамбле деревьев решений. (2 балла)\n",
    "\n",
    "* Вытащите признаки с предпоследнего слоя обученной нейросети и передайте их в ансамбль деревьев решений.\n",
    "* Сравните результаты работы лучшей нейросети и ансамбля деревьев решений, построенном на признаках из этой нейросети. Сможет ли замена последнего слоя на ансамбль деревьев решений улучшить результат?"
   ]
  },
  {
   "cell_type": "code",
   "execution_count": 49,
   "metadata": {},
   "outputs": [],
   "source": [
    "import random\n",
    "\n",
    "# gru model\n",
    "\n",
    "class ModelInference(object):\n",
    "    def __init__(self, model):\n",
    "        \n",
    "        self.model = model\n",
    "        \n",
    "    def inference(self, data) -> \"features in numpy arrays\":\n",
    "        \n",
    "        x=[[]]\n",
    "        y=[]\n",
    "        x=np.array(x)\n",
    "        y=np.array(y)\n",
    "        \n",
    "        for i, batch in tqdm.notebook.tqdm(enumerate(\n",
    "                        iterate_minibatches(\n",
    "                                data, \n",
    "                                batch_size=BATCH_SIZE, \n",
    "                                device=DEVICE)), \n",
    "                            total=len(data) // BATCH_SIZE\n",
    "                    ):\n",
    "            title_embeddings = self.model.embedder(batch['Title']).permute(0, 2, 1)\n",
    "            title_features = self.model.title_reccurent(title_embeddings)[0]\n",
    "            title_features = self.model.title_encoder(title_embeddings).squeeze()\n",
    "\n",
    "            description_embeddings = self.model.embedder(batch['FullDescription']).permute(0, 2, 1)\n",
    "            description_features = self.model.description_reccurent(description_embeddings)[0]\n",
    "            description_features = self.model.description_encoder(description_embeddings).squeeze()\n",
    "\n",
    "            categorical_features = self.model.categorical_encoder(batch['Categorical'])\n",
    "            \n",
    "            f = torch.cat([title_features, description_features, categorical_features], dim=1).detach().cpu().numpy()\n",
    "            \n",
    "            if x.any(): \n",
    "                x = np.concatenate([x, f])\n",
    "            else: \n",
    "                x = f\n",
    "                \n",
    "                \n",
    "            if y.any(): \n",
    "                y = np.concatenate([y, batch[TARGET_COLUMN].cpu().numpy()])\n",
    "            else: \n",
    "                y = batch[TARGET_COLUMN].cpu().numpy()\n",
    "            \n",
    "        return x, y"
   ]
  },
  {
   "cell_type": "code",
   "execution_count": 50,
   "metadata": {},
   "outputs": [],
   "source": [
    "m9 = ModelInference(m8)"
   ]
  },
  {
   "cell_type": "code",
   "execution_count": 51,
   "metadata": {},
   "outputs": [
    {
     "data": {
      "application/vnd.jupyter.widget-view+json": {
       "model_id": "8229860ac86a4499b6c24f6b155f5b04",
       "version_major": 2,
       "version_minor": 0
      },
      "text/plain": [
       "  0%|          | 0/1721 [00:00<?, ?it/s]"
      ]
     },
     "metadata": {},
     "output_type": "display_data"
    },
    {
     "data": {
      "application/vnd.jupyter.widget-view+json": {
       "model_id": "1a29258442b54e55a9d04baa61e83d99",
       "version_major": 2,
       "version_minor": 0
      },
      "text/plain": [
       "  0%|          | 0/191 [00:00<?, ?it/s]"
      ]
     },
     "metadata": {},
     "output_type": "display_data"
    }
   ],
   "source": [
    "train_x, train_y = m9.inference(data_train)\n",
    "test_x, test_y = m9.inference(data_val)"
   ]
  },
  {
   "cell_type": "code",
   "execution_count": 52,
   "metadata": {},
   "outputs": [],
   "source": [
    "from sklearn.tree import DecisionTreeRegressor\n",
    "\n",
    "\n",
    "class TreeForest(object):\n",
    "    \n",
    "    def __init__(self, n_estimatros, min_depth=2, max_depth=5):\n",
    "        self.models = []\n",
    "        \n",
    "        for _ in range(n_estimatros):\n",
    "            \n",
    "            depth = random.randint(min_depth, max_depth)\n",
    "            new_model = DecisionTreeRegressor(max_depth=depth)\n",
    "            self.models.append(new_model)\n",
    "        \n",
    "        self.n_estimatros = n_estimatros\n",
    "        \n",
    "    def fit(self, x, y):\n",
    "        for t in self.models:\n",
    "            t.fit(x, y)\n",
    "            \n",
    "    def predict(self, x):\n",
    "        predictions = []\n",
    "        \n",
    "        self._p = None\n",
    "        \n",
    "        for model in self.models:\n",
    "            pred = model.predict(x)\n",
    "            predictions.append(pred)\n",
    "        \n",
    "        pred = np.sum(predictions, axis=0) / self.n_estimatros\n",
    "        \n",
    "        self._p = pred\n",
    "        \n",
    "        return pred\n",
    "    \n",
    "    def evaluate(self, y):\n",
    "        \n",
    "        mse = np.mean(np.square(self._p - y))\n",
    "        mae = np.mean(np.abs(self._p - y))\n",
    "        return mse, mae"
   ]
  },
  {
   "cell_type": "code",
   "execution_count": 53,
   "metadata": {},
   "outputs": [],
   "source": [
    "m10 = TreeForest(4)\n",
    "\n",
    "m10.fit(train_x, train_y)"
   ]
  },
  {
   "cell_type": "code",
   "execution_count": 54,
   "metadata": {},
   "outputs": [
    {
     "data": {
      "text/plain": [
       "array([10.49299027, 10.44656257, 10.10863227, ..., 10.24061041,\n",
       "       10.10863227, 10.53042684])"
      ]
     },
     "execution_count": 54,
     "metadata": {},
     "output_type": "execute_result"
    }
   ],
   "source": [
    "m10.predict(test_x)"
   ]
  },
  {
   "cell_type": "code",
   "execution_count": 55,
   "metadata": {},
   "outputs": [
    {
     "data": {
      "text/plain": [
       "(0.14709391968819982, 0.2983686946441363)"
      ]
     },
     "execution_count": 55,
     "metadata": {},
     "output_type": "execute_result"
    }
   ],
   "source": [
    "m10.evaluate(test_y)"
   ]
  },
  {
   "cell_type": "markdown",
   "metadata": {},
   "source": [
    "Океюшки, лаборатори ворк из done :))\n",
    "\n",
    "Давайте прорезюмируем чего мы тут наворотили\n",
    "\n",
    "\n",
    "1. Придумали сетку с параллельными блоками из сверточных и дополнительных слоев\n",
    "Результаты отличные, в целом ок. Мы повысили емкость сети, а данные однообразные, поэтому это дало прирост, я так думаю.\n",
    "\n",
    "2. Average Pool улучшил результаты базовой модели, Max pool не показал прироста к производительности.\n",
    "\n",
    "3. Эмбединги не повысили результаты, и производительность. Хотя на накоторых итерациях очередной тренировке модель быстрее сходилась к оптимуму.\n",
    "\n",
    "4. GRU показали себя лучше всех. Не могу объяснить почему, хотя LSTM это почти то же самое. RNN в целом тоже ок, но последней сетке проигрывает.\n",
    "\n",
    "5. Ансамбль деревьев решений показал хороший результат с фичами, полученными на GRU сетке, которым в целом можно гордиться. Не зря машинное обучение изучали))"
   ]
  },
  {
   "cell_type": "code",
   "execution_count": null,
   "metadata": {},
   "outputs": [],
   "source": []
  },
  {
   "cell_type": "code",
   "execution_count": null,
   "metadata": {},
   "outputs": [],
   "source": []
  }
 ],
 "metadata": {
  "accelerator": "GPU",
  "colab": {
   "collapsed_sections": [],
   "name": "seminar_torch.ipynb",
   "provenance": []
  },
  "kernelspec": {
   "display_name": "Python 3 (ipykernel)",
   "language": "python",
   "name": "python3"
  },
  "language_info": {
   "codemirror_mode": {
    "name": "ipython",
    "version": 3
   },
   "file_extension": ".py",
   "mimetype": "text/x-python",
   "name": "python",
   "nbconvert_exporter": "python",
   "pygments_lexer": "ipython3",
   "version": "3.9.4"
  },
  "widgets": {
   "application/vnd.jupyter.widget-state+json": {
    "03bbe0d4b0524a85be49a1b119aaa66a": {
     "model_module": "@jupyter-widgets/base",
     "model_module_version": "1.2.0",
     "model_name": "LayoutModel",
     "state": {
      "_model_module": "@jupyter-widgets/base",
      "_model_module_version": "1.2.0",
      "_model_name": "LayoutModel",
      "_view_count": null,
      "_view_module": "@jupyter-widgets/base",
      "_view_module_version": "1.2.0",
      "_view_name": "LayoutView",
      "align_content": null,
      "align_items": null,
      "align_self": null,
      "border": null,
      "bottom": null,
      "display": null,
      "flex": null,
      "flex_flow": null,
      "grid_area": null,
      "grid_auto_columns": null,
      "grid_auto_flow": null,
      "grid_auto_rows": null,
      "grid_column": null,
      "grid_gap": null,
      "grid_row": null,
      "grid_template_areas": null,
      "grid_template_columns": null,
      "grid_template_rows": null,
      "height": null,
      "justify_content": null,
      "justify_items": null,
      "left": null,
      "margin": null,
      "max_height": null,
      "max_width": null,
      "min_height": null,
      "min_width": null,
      "object_fit": null,
      "object_position": null,
      "order": null,
      "overflow": null,
      "overflow_x": null,
      "overflow_y": null,
      "padding": null,
      "right": null,
      "top": null,
      "visibility": null,
      "width": null
     }
    },
    "0f5b3da7508f461595456f1316465dae": {
     "model_module": "@jupyter-widgets/controls",
     "model_module_version": "1.5.0",
     "model_name": "FloatProgressModel",
     "state": {
      "_dom_classes": [],
      "_model_module": "@jupyter-widgets/controls",
      "_model_module_version": "1.5.0",
      "_model_name": "FloatProgressModel",
      "_view_count": null,
      "_view_module": "@jupyter-widgets/controls",
      "_view_module_version": "1.5.0",
      "_view_name": "ProgressView",
      "bar_style": "success",
      "description": "",
      "description_tooltip": null,
      "layout": "IPY_MODEL_b680fa64dc604e6d94697242310428e9",
      "max": 1721,
      "min": 0,
      "orientation": "horizontal",
      "style": "IPY_MODEL_b2b39e59a46a4338bc75afd376e69931",
      "value": 1721
     }
    },
    "1c6445766414415e99ac32fb94686dca": {
     "model_module": "@jupyter-widgets/controls",
     "model_module_version": "1.5.0",
     "model_name": "HTMLModel",
     "state": {
      "_dom_classes": [],
      "_model_module": "@jupyter-widgets/controls",
      "_model_module_version": "1.5.0",
      "_model_name": "HTMLModel",
      "_view_count": null,
      "_view_module": "@jupyter-widgets/controls",
      "_view_module_version": "1.5.0",
      "_view_name": "HTMLView",
      "description": "",
      "description_tooltip": null,
      "layout": "IPY_MODEL_995b4b20bd094ab4b5a3d2027c45fdca",
      "placeholder": "​",
      "style": "IPY_MODEL_d32c4d65bc164e30aca844c670363ae3",
      "value": " 1722/? [01:36&lt;00:00, 17.78it/s]"
     }
    },
    "2dae3fd3baad438aa9436206e741ac38": {
     "model_module": "@jupyter-widgets/controls",
     "model_module_version": "1.5.0",
     "model_name": "DescriptionStyleModel",
     "state": {
      "_model_module": "@jupyter-widgets/controls",
      "_model_module_version": "1.5.0",
      "_model_name": "DescriptionStyleModel",
      "_view_count": null,
      "_view_module": "@jupyter-widgets/base",
      "_view_module_version": "1.2.0",
      "_view_name": "StyleView",
      "description_width": ""
     }
    },
    "30902776c0564143a69d7b6ebf0fe9b9": {
     "model_module": "@jupyter-widgets/base",
     "model_module_version": "1.2.0",
     "model_name": "LayoutModel",
     "state": {
      "_model_module": "@jupyter-widgets/base",
      "_model_module_version": "1.2.0",
      "_model_name": "LayoutModel",
      "_view_count": null,
      "_view_module": "@jupyter-widgets/base",
      "_view_module_version": "1.2.0",
      "_view_name": "LayoutView",
      "align_content": null,
      "align_items": null,
      "align_self": null,
      "border": null,
      "bottom": null,
      "display": null,
      "flex": null,
      "flex_flow": null,
      "grid_area": null,
      "grid_auto_columns": null,
      "grid_auto_flow": null,
      "grid_auto_rows": null,
      "grid_column": null,
      "grid_gap": null,
      "grid_row": null,
      "grid_template_areas": null,
      "grid_template_columns": null,
      "grid_template_rows": null,
      "height": null,
      "justify_content": null,
      "justify_items": null,
      "left": null,
      "margin": null,
      "max_height": null,
      "max_width": null,
      "min_height": null,
      "min_width": null,
      "object_fit": null,
      "object_position": null,
      "order": null,
      "overflow": null,
      "overflow_x": null,
      "overflow_y": null,
      "padding": null,
      "right": null,
      "top": null,
      "visibility": null,
      "width": null
     }
    },
    "3a34a95aa682439fbce7c40ac232bfa3": {
     "model_module": "@jupyter-widgets/controls",
     "model_module_version": "1.5.0",
     "model_name": "HBoxModel",
     "state": {
      "_dom_classes": [],
      "_model_module": "@jupyter-widgets/controls",
      "_model_module_version": "1.5.0",
      "_model_name": "HBoxModel",
      "_view_count": null,
      "_view_module": "@jupyter-widgets/controls",
      "_view_module_version": "1.5.0",
      "_view_name": "HBoxView",
      "box_style": "",
      "children": [
       "IPY_MODEL_b5308c327f5c4395852638002e93312a",
       "IPY_MODEL_1c6445766414415e99ac32fb94686dca"
      ],
      "layout": "IPY_MODEL_30902776c0564143a69d7b6ebf0fe9b9"
     }
    },
    "421c51a1bf9d4be4ad8c445ad5c6fce8": {
     "model_module": "@jupyter-widgets/controls",
     "model_module_version": "1.5.0",
     "model_name": "FloatProgressModel",
     "state": {
      "_dom_classes": [],
      "_model_module": "@jupyter-widgets/controls",
      "_model_module_version": "1.5.0",
      "_model_name": "FloatProgressModel",
      "_view_count": null,
      "_view_module": "@jupyter-widgets/controls",
      "_view_module_version": "1.5.0",
      "_view_name": "ProgressView",
      "bar_style": "success",
      "description": "",
      "description_tooltip": null,
      "layout": "IPY_MODEL_98b0239d3c6c4c8ca82d0f7cb96734fe",
      "max": 1721,
      "min": 0,
      "orientation": "horizontal",
      "style": "IPY_MODEL_cc9eef35c7da4872bac60bd46110fa04",
      "value": 1721
     }
    },
    "4722c85bb02b4291a90e6402d86397fa": {
     "model_module": "@jupyter-widgets/controls",
     "model_module_version": "1.5.0",
     "model_name": "DescriptionStyleModel",
     "state": {
      "_model_module": "@jupyter-widgets/controls",
      "_model_module_version": "1.5.0",
      "_model_name": "DescriptionStyleModel",
      "_view_count": null,
      "_view_module": "@jupyter-widgets/base",
      "_view_module_version": "1.2.0",
      "_view_name": "StyleView",
      "description_width": ""
     }
    },
    "6505bbb46d7f4ffa9794fde8861cd8fb": {
     "model_module": "@jupyter-widgets/controls",
     "model_module_version": "1.5.0",
     "model_name": "HBoxModel",
     "state": {
      "_dom_classes": [],
      "_model_module": "@jupyter-widgets/controls",
      "_model_module_version": "1.5.0",
      "_model_name": "HBoxModel",
      "_view_count": null,
      "_view_module": "@jupyter-widgets/controls",
      "_view_module_version": "1.5.0",
      "_view_name": "HBoxView",
      "box_style": "",
      "children": [
       "IPY_MODEL_0f5b3da7508f461595456f1316465dae",
       "IPY_MODEL_b6d38ddc1e4948c9b98a6d79c18cd5a5"
      ],
      "layout": "IPY_MODEL_03bbe0d4b0524a85be49a1b119aaa66a"
     }
    },
    "73e5ea94ed2c45f5b25d1281f66b59bf": {
     "model_module": "@jupyter-widgets/controls",
     "model_module_version": "1.5.0",
     "model_name": "HTMLModel",
     "state": {
      "_dom_classes": [],
      "_model_module": "@jupyter-widgets/controls",
      "_model_module_version": "1.5.0",
      "_model_name": "HTMLModel",
      "_view_count": null,
      "_view_module": "@jupyter-widgets/controls",
      "_view_module_version": "1.5.0",
      "_view_name": "HTMLView",
      "description": "",
      "description_tooltip": null,
      "layout": "IPY_MODEL_af9922f672f54841b5acb1379534d1e5",
      "placeholder": "​",
      "style": "IPY_MODEL_2dae3fd3baad438aa9436206e741ac38",
      "value": " 1722/? [01:36&lt;00:00, 17.90it/s]"
     }
    },
    "7b79ef9602d041acada88a1e3e75fa7f": {
     "model_module": "@jupyter-widgets/controls",
     "model_module_version": "1.5.0",
     "model_name": "ProgressStyleModel",
     "state": {
      "_model_module": "@jupyter-widgets/controls",
      "_model_module_version": "1.5.0",
      "_model_name": "ProgressStyleModel",
      "_view_count": null,
      "_view_module": "@jupyter-widgets/base",
      "_view_module_version": "1.2.0",
      "_view_name": "StyleView",
      "bar_color": null,
      "description_width": "initial"
     }
    },
    "98b0239d3c6c4c8ca82d0f7cb96734fe": {
     "model_module": "@jupyter-widgets/base",
     "model_module_version": "1.2.0",
     "model_name": "LayoutModel",
     "state": {
      "_model_module": "@jupyter-widgets/base",
      "_model_module_version": "1.2.0",
      "_model_name": "LayoutModel",
      "_view_count": null,
      "_view_module": "@jupyter-widgets/base",
      "_view_module_version": "1.2.0",
      "_view_name": "LayoutView",
      "align_content": null,
      "align_items": null,
      "align_self": null,
      "border": null,
      "bottom": null,
      "display": null,
      "flex": null,
      "flex_flow": null,
      "grid_area": null,
      "grid_auto_columns": null,
      "grid_auto_flow": null,
      "grid_auto_rows": null,
      "grid_column": null,
      "grid_gap": null,
      "grid_row": null,
      "grid_template_areas": null,
      "grid_template_columns": null,
      "grid_template_rows": null,
      "height": null,
      "justify_content": null,
      "justify_items": null,
      "left": null,
      "margin": null,
      "max_height": null,
      "max_width": null,
      "min_height": null,
      "min_width": null,
      "object_fit": null,
      "object_position": null,
      "order": null,
      "overflow": null,
      "overflow_x": null,
      "overflow_y": null,
      "padding": null,
      "right": null,
      "top": null,
      "visibility": null,
      "width": null
     }
    },
    "995b4b20bd094ab4b5a3d2027c45fdca": {
     "model_module": "@jupyter-widgets/base",
     "model_module_version": "1.2.0",
     "model_name": "LayoutModel",
     "state": {
      "_model_module": "@jupyter-widgets/base",
      "_model_module_version": "1.2.0",
      "_model_name": "LayoutModel",
      "_view_count": null,
      "_view_module": "@jupyter-widgets/base",
      "_view_module_version": "1.2.0",
      "_view_name": "LayoutView",
      "align_content": null,
      "align_items": null,
      "align_self": null,
      "border": null,
      "bottom": null,
      "display": null,
      "flex": null,
      "flex_flow": null,
      "grid_area": null,
      "grid_auto_columns": null,
      "grid_auto_flow": null,
      "grid_auto_rows": null,
      "grid_column": null,
      "grid_gap": null,
      "grid_row": null,
      "grid_template_areas": null,
      "grid_template_columns": null,
      "grid_template_rows": null,
      "height": null,
      "justify_content": null,
      "justify_items": null,
      "left": null,
      "margin": null,
      "max_height": null,
      "max_width": null,
      "min_height": null,
      "min_width": null,
      "object_fit": null,
      "object_position": null,
      "order": null,
      "overflow": null,
      "overflow_x": null,
      "overflow_y": null,
      "padding": null,
      "right": null,
      "top": null,
      "visibility": null,
      "width": null
     }
    },
    "a2b99faed0f54678811698f312ed80a4": {
     "model_module": "@jupyter-widgets/controls",
     "model_module_version": "1.5.0",
     "model_name": "HBoxModel",
     "state": {
      "_dom_classes": [],
      "_model_module": "@jupyter-widgets/controls",
      "_model_module_version": "1.5.0",
      "_model_name": "HBoxModel",
      "_view_count": null,
      "_view_module": "@jupyter-widgets/controls",
      "_view_module_version": "1.5.0",
      "_view_name": "HBoxView",
      "box_style": "",
      "children": [
       "IPY_MODEL_421c51a1bf9d4be4ad8c445ad5c6fce8",
       "IPY_MODEL_73e5ea94ed2c45f5b25d1281f66b59bf"
      ],
      "layout": "IPY_MODEL_df9c2a9f3fe04519853a361700e3c056"
     }
    },
    "af9922f672f54841b5acb1379534d1e5": {
     "model_module": "@jupyter-widgets/base",
     "model_module_version": "1.2.0",
     "model_name": "LayoutModel",
     "state": {
      "_model_module": "@jupyter-widgets/base",
      "_model_module_version": "1.2.0",
      "_model_name": "LayoutModel",
      "_view_count": null,
      "_view_module": "@jupyter-widgets/base",
      "_view_module_version": "1.2.0",
      "_view_name": "LayoutView",
      "align_content": null,
      "align_items": null,
      "align_self": null,
      "border": null,
      "bottom": null,
      "display": null,
      "flex": null,
      "flex_flow": null,
      "grid_area": null,
      "grid_auto_columns": null,
      "grid_auto_flow": null,
      "grid_auto_rows": null,
      "grid_column": null,
      "grid_gap": null,
      "grid_row": null,
      "grid_template_areas": null,
      "grid_template_columns": null,
      "grid_template_rows": null,
      "height": null,
      "justify_content": null,
      "justify_items": null,
      "left": null,
      "margin": null,
      "max_height": null,
      "max_width": null,
      "min_height": null,
      "min_width": null,
      "object_fit": null,
      "object_position": null,
      "order": null,
      "overflow": null,
      "overflow_x": null,
      "overflow_y": null,
      "padding": null,
      "right": null,
      "top": null,
      "visibility": null,
      "width": null
     }
    },
    "b2b39e59a46a4338bc75afd376e69931": {
     "model_module": "@jupyter-widgets/controls",
     "model_module_version": "1.5.0",
     "model_name": "ProgressStyleModel",
     "state": {
      "_model_module": "@jupyter-widgets/controls",
      "_model_module_version": "1.5.0",
      "_model_name": "ProgressStyleModel",
      "_view_count": null,
      "_view_module": "@jupyter-widgets/base",
      "_view_module_version": "1.2.0",
      "_view_name": "StyleView",
      "bar_color": null,
      "description_width": "initial"
     }
    },
    "b5308c327f5c4395852638002e93312a": {
     "model_module": "@jupyter-widgets/controls",
     "model_module_version": "1.5.0",
     "model_name": "FloatProgressModel",
     "state": {
      "_dom_classes": [],
      "_model_module": "@jupyter-widgets/controls",
      "_model_module_version": "1.5.0",
      "_model_name": "FloatProgressModel",
      "_view_count": null,
      "_view_module": "@jupyter-widgets/controls",
      "_view_module_version": "1.5.0",
      "_view_name": "ProgressView",
      "bar_style": "success",
      "description": "",
      "description_tooltip": null,
      "layout": "IPY_MODEL_df3fe642b3184ce89286cd052f047cbd",
      "max": 1721,
      "min": 0,
      "orientation": "horizontal",
      "style": "IPY_MODEL_7b79ef9602d041acada88a1e3e75fa7f",
      "value": 1721
     }
    },
    "b680fa64dc604e6d94697242310428e9": {
     "model_module": "@jupyter-widgets/base",
     "model_module_version": "1.2.0",
     "model_name": "LayoutModel",
     "state": {
      "_model_module": "@jupyter-widgets/base",
      "_model_module_version": "1.2.0",
      "_model_name": "LayoutModel",
      "_view_count": null,
      "_view_module": "@jupyter-widgets/base",
      "_view_module_version": "1.2.0",
      "_view_name": "LayoutView",
      "align_content": null,
      "align_items": null,
      "align_self": null,
      "border": null,
      "bottom": null,
      "display": null,
      "flex": null,
      "flex_flow": null,
      "grid_area": null,
      "grid_auto_columns": null,
      "grid_auto_flow": null,
      "grid_auto_rows": null,
      "grid_column": null,
      "grid_gap": null,
      "grid_row": null,
      "grid_template_areas": null,
      "grid_template_columns": null,
      "grid_template_rows": null,
      "height": null,
      "justify_content": null,
      "justify_items": null,
      "left": null,
      "margin": null,
      "max_height": null,
      "max_width": null,
      "min_height": null,
      "min_width": null,
      "object_fit": null,
      "object_position": null,
      "order": null,
      "overflow": null,
      "overflow_x": null,
      "overflow_y": null,
      "padding": null,
      "right": null,
      "top": null,
      "visibility": null,
      "width": null
     }
    },
    "b6d38ddc1e4948c9b98a6d79c18cd5a5": {
     "model_module": "@jupyter-widgets/controls",
     "model_module_version": "1.5.0",
     "model_name": "HTMLModel",
     "state": {
      "_dom_classes": [],
      "_model_module": "@jupyter-widgets/controls",
      "_model_module_version": "1.5.0",
      "_model_name": "HTMLModel",
      "_view_count": null,
      "_view_module": "@jupyter-widgets/controls",
      "_view_module_version": "1.5.0",
      "_view_name": "HTMLView",
      "description": "",
      "description_tooltip": null,
      "layout": "IPY_MODEL_c34336639978471f8e0f6aa78e1955ff",
      "placeholder": "​",
      "style": "IPY_MODEL_4722c85bb02b4291a90e6402d86397fa",
      "value": " 1722/? [01:36&lt;00:00, 17.82it/s]"
     }
    },
    "c34336639978471f8e0f6aa78e1955ff": {
     "model_module": "@jupyter-widgets/base",
     "model_module_version": "1.2.0",
     "model_name": "LayoutModel",
     "state": {
      "_model_module": "@jupyter-widgets/base",
      "_model_module_version": "1.2.0",
      "_model_name": "LayoutModel",
      "_view_count": null,
      "_view_module": "@jupyter-widgets/base",
      "_view_module_version": "1.2.0",
      "_view_name": "LayoutView",
      "align_content": null,
      "align_items": null,
      "align_self": null,
      "border": null,
      "bottom": null,
      "display": null,
      "flex": null,
      "flex_flow": null,
      "grid_area": null,
      "grid_auto_columns": null,
      "grid_auto_flow": null,
      "grid_auto_rows": null,
      "grid_column": null,
      "grid_gap": null,
      "grid_row": null,
      "grid_template_areas": null,
      "grid_template_columns": null,
      "grid_template_rows": null,
      "height": null,
      "justify_content": null,
      "justify_items": null,
      "left": null,
      "margin": null,
      "max_height": null,
      "max_width": null,
      "min_height": null,
      "min_width": null,
      "object_fit": null,
      "object_position": null,
      "order": null,
      "overflow": null,
      "overflow_x": null,
      "overflow_y": null,
      "padding": null,
      "right": null,
      "top": null,
      "visibility": null,
      "width": null
     }
    },
    "cc9eef35c7da4872bac60bd46110fa04": {
     "model_module": "@jupyter-widgets/controls",
     "model_module_version": "1.5.0",
     "model_name": "ProgressStyleModel",
     "state": {
      "_model_module": "@jupyter-widgets/controls",
      "_model_module_version": "1.5.0",
      "_model_name": "ProgressStyleModel",
      "_view_count": null,
      "_view_module": "@jupyter-widgets/base",
      "_view_module_version": "1.2.0",
      "_view_name": "StyleView",
      "bar_color": null,
      "description_width": "initial"
     }
    },
    "d32c4d65bc164e30aca844c670363ae3": {
     "model_module": "@jupyter-widgets/controls",
     "model_module_version": "1.5.0",
     "model_name": "DescriptionStyleModel",
     "state": {
      "_model_module": "@jupyter-widgets/controls",
      "_model_module_version": "1.5.0",
      "_model_name": "DescriptionStyleModel",
      "_view_count": null,
      "_view_module": "@jupyter-widgets/base",
      "_view_module_version": "1.2.0",
      "_view_name": "StyleView",
      "description_width": ""
     }
    },
    "df3fe642b3184ce89286cd052f047cbd": {
     "model_module": "@jupyter-widgets/base",
     "model_module_version": "1.2.0",
     "model_name": "LayoutModel",
     "state": {
      "_model_module": "@jupyter-widgets/base",
      "_model_module_version": "1.2.0",
      "_model_name": "LayoutModel",
      "_view_count": null,
      "_view_module": "@jupyter-widgets/base",
      "_view_module_version": "1.2.0",
      "_view_name": "LayoutView",
      "align_content": null,
      "align_items": null,
      "align_self": null,
      "border": null,
      "bottom": null,
      "display": null,
      "flex": null,
      "flex_flow": null,
      "grid_area": null,
      "grid_auto_columns": null,
      "grid_auto_flow": null,
      "grid_auto_rows": null,
      "grid_column": null,
      "grid_gap": null,
      "grid_row": null,
      "grid_template_areas": null,
      "grid_template_columns": null,
      "grid_template_rows": null,
      "height": null,
      "justify_content": null,
      "justify_items": null,
      "left": null,
      "margin": null,
      "max_height": null,
      "max_width": null,
      "min_height": null,
      "min_width": null,
      "object_fit": null,
      "object_position": null,
      "order": null,
      "overflow": null,
      "overflow_x": null,
      "overflow_y": null,
      "padding": null,
      "right": null,
      "top": null,
      "visibility": null,
      "width": null
     }
    },
    "df9c2a9f3fe04519853a361700e3c056": {
     "model_module": "@jupyter-widgets/base",
     "model_module_version": "1.2.0",
     "model_name": "LayoutModel",
     "state": {
      "_model_module": "@jupyter-widgets/base",
      "_model_module_version": "1.2.0",
      "_model_name": "LayoutModel",
      "_view_count": null,
      "_view_module": "@jupyter-widgets/base",
      "_view_module_version": "1.2.0",
      "_view_name": "LayoutView",
      "align_content": null,
      "align_items": null,
      "align_self": null,
      "border": null,
      "bottom": null,
      "display": null,
      "flex": null,
      "flex_flow": null,
      "grid_area": null,
      "grid_auto_columns": null,
      "grid_auto_flow": null,
      "grid_auto_rows": null,
      "grid_column": null,
      "grid_gap": null,
      "grid_row": null,
      "grid_template_areas": null,
      "grid_template_columns": null,
      "grid_template_rows": null,
      "height": null,
      "justify_content": null,
      "justify_items": null,
      "left": null,
      "margin": null,
      "max_height": null,
      "max_width": null,
      "min_height": null,
      "min_width": null,
      "object_fit": null,
      "object_position": null,
      "order": null,
      "overflow": null,
      "overflow_x": null,
      "overflow_y": null,
      "padding": null,
      "right": null,
      "top": null,
      "visibility": null,
      "width": null
     }
    }
   }
  }
 },
 "nbformat": 4,
 "nbformat_minor": 1
}
